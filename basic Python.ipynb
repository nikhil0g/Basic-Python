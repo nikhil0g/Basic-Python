{
 "cells": [
  {
   "cell_type": "code",
   "execution_count": 1,
   "id": "af9230ad",
   "metadata": {},
   "outputs": [
    {
     "name": "stdout",
     "output_type": "stream",
     "text": [
      "100\n"
     ]
    }
   ],
   "source": [
    "# to print any object\n",
    "print(100)"
   ]
  },
  {
   "cell_type": "code",
   "execution_count": 4,
   "id": "cd49eb77",
   "metadata": {
    "scrolled": true
   },
   "outputs": [
    {
     "name": "stdout",
     "output_type": "stream",
     "text": [
      "hello\n",
      "hello\n"
     ]
    }
   ],
   "source": [
    "print(\"hello\")\n",
    "print('hello')"
   ]
  },
  {
   "cell_type": "code",
   "execution_count": 3,
   "id": "046bd1cc",
   "metadata": {},
   "outputs": [
    {
     "name": "stdout",
     "output_type": "stream",
     "text": [
      "200\n"
     ]
    }
   ],
   "source": [
    "print(100+100)"
   ]
  },
  {
   "cell_type": "code",
   "execution_count": 5,
   "id": "0ebbca52",
   "metadata": {},
   "outputs": [
    {
     "name": "stdout",
     "output_type": "stream",
     "text": [
      "10\n"
     ]
    }
   ],
   "source": [
    "# variable assign and execution\n",
    "i = 10\n",
    "print(i)"
   ]
  },
  {
   "cell_type": "markdown",
   "id": "4a40a03c",
   "metadata": {},
   "source": [
    "# Add,div,multi,div"
   ]
  },
  {
   "cell_type": "code",
   "execution_count": 9,
   "id": "16726bcf",
   "metadata": {},
   "outputs": [
    {
     "name": "stdout",
     "output_type": "stream",
     "text": [
      "Addition of a and b is :- 30\n"
     ]
    }
   ],
   "source": [
    "a = 10\n",
    "b = 20\n",
    "c = a + b\n",
    "print('Addition of a and b is :-',c)"
   ]
  },
  {
   "cell_type": "code",
   "execution_count": 10,
   "id": "624e82f1",
   "metadata": {},
   "outputs": [
    {
     "name": "stdout",
     "output_type": "stream",
     "text": [
      "substraction of a and b is :- -10\n"
     ]
    }
   ],
   "source": [
    "a = 10\n",
    "b = 20\n",
    "c = a - b\n",
    "print('substraction of a and b is :-',c)"
   ]
  },
  {
   "cell_type": "code",
   "execution_count": 11,
   "id": "97412400",
   "metadata": {},
   "outputs": [
    {
     "name": "stdout",
     "output_type": "stream",
     "text": [
      "Addition of a and b is :- 30\n",
      "sub is -10\n",
      "multi is  200\n",
      "div is  0.5\n"
     ]
    }
   ],
   "source": [
    "a = 10\n",
    "b = 20\n",
    "c = a + b\n",
    "print('Addition of a and b is :-',c)\n",
    "d = a - b\n",
    "print(\"sub is\",d)\n",
    "e  = a * b\n",
    "print(\"multi is \",e)\n",
    "f = a / b\n",
    "print(\"div is \",f)"
   ]
  },
  {
   "cell_type": "markdown",
   "id": "45d6704c",
   "metadata": {},
   "source": [
    "# Strings"
   ]
  },
  {
   "cell_type": "code",
   "execution_count": 14,
   "id": "0440c1b9",
   "metadata": {},
   "outputs": [
    {
     "name": "stdout",
     "output_type": "stream",
     "text": [
      "hello world\n"
     ]
    }
   ],
   "source": [
    "a = 'hello '\n",
    "b = 'world'\n",
    "c = a + b\n",
    "print(c)"
   ]
  },
  {
   "cell_type": "code",
   "execution_count": 16,
   "id": "c6bdd469",
   "metadata": {},
   "outputs": [
    {
     "name": "stdout",
     "output_type": "stream",
     "text": [
      "hello world welcomes\n"
     ]
    }
   ],
   "source": [
    "#concatination\n",
    "a = 'hello '\n",
    "b = 'world'\n",
    "c = a + b\n",
    "d = 'welcomes'# adding new string\n",
    "print(c,d)"
   ]
  },
  {
   "cell_type": "code",
   "execution_count": 22,
   "id": "8ea8ae43",
   "metadata": {},
   "outputs": [
    {
     "name": "stdout",
     "output_type": "stream",
     "text": [
      "Hello am linux\n",
      "HELLO AM LINUX\n",
      "hello am linux\n",
      "Hello Am Linux\n"
     ]
    }
   ],
   "source": [
    "s = 'hello Am linux'\n",
    "cap = s.capitalize()\n",
    "print(cap)\n",
    "\n",
    "upper = s.upper()\n",
    "print(upper)\n",
    "\n",
    "lower = s.lower()\n",
    "print(lower)\n",
    "\n",
    "title = s.title()\n",
    "print(title)"
   ]
  },
  {
   "cell_type": "markdown",
   "id": "307e7cbc",
   "metadata": {},
   "source": [
    "# checking strings"
   ]
  },
  {
   "cell_type": "code",
   "execution_count": 1,
   "id": "63aee39c",
   "metadata": {},
   "outputs": [
    {
     "name": "stdout",
     "output_type": "stream",
     "text": [
      "Is upper? False\n"
     ]
    }
   ],
   "source": [
    "s = 'hello am ISRO'\n",
    "print('Is upper?',s.isupper())"
   ]
  },
  {
   "cell_type": "code",
   "execution_count": 3,
   "id": "7f1c031e",
   "metadata": {},
   "outputs": [
    {
     "name": "stdout",
     "output_type": "stream",
     "text": [
      "Is lower? True\n"
     ]
    }
   ],
   "source": [
    "s = 'hello am isro'\n",
    "print('Is lower?',s.islower())"
   ]
  },
  {
   "cell_type": "code",
   "execution_count": 5,
   "id": "cd05ca01",
   "metadata": {},
   "outputs": [
    {
     "name": "stdout",
     "output_type": "stream",
     "text": [
      "Is Titlecase? False\n"
     ]
    }
   ],
   "source": [
    "s = 'hello am ISRO'\n",
    "print('Is Titlecase?',s.istitle())"
   ]
  },
  {
   "cell_type": "code",
   "execution_count": 2,
   "id": "5cdc314b",
   "metadata": {},
   "outputs": [
    {
     "name": "stdout",
     "output_type": "stream",
     "text": [
      "Is alphabetical? False\n"
     ]
    }
   ],
   "source": [
    "s = 'hello am isro'\n",
    "print('Is alphabetical?',s.isalpha())"
   ]
  },
  {
   "cell_type": "code",
   "execution_count": 13,
   "id": "26afc208",
   "metadata": {},
   "outputs": [
    {
     "name": "stdout",
     "output_type": "stream",
     "text": [
      "Is nubers? False\n"
     ]
    }
   ],
   "source": [
    "s = ' hello 154668'\n",
    "print('Is nubers?',s.isalnum())"
   ]
  },
  {
   "cell_type": "code",
   "execution_count": 14,
   "id": "1fcdfb5a",
   "metadata": {},
   "outputs": [
    {
     "name": "stdout",
     "output_type": "stream",
     "text": [
      "Is digit? True\n"
     ]
    }
   ],
   "source": [
    "s = '123'\n",
    "print('Is digit?',s.isdigit())"
   ]
  },
  {
   "cell_type": "markdown",
   "id": "cdaf2799",
   "metadata": {},
   "source": [
    "# Split function"
   ]
  },
  {
   "cell_type": "code",
   "execution_count": 15,
   "id": "3ad43555",
   "metadata": {},
   "outputs": [
    {
     "name": "stdout",
     "output_type": "stream",
     "text": [
      "['welcome', 'to', 'data', 'science']\n"
     ]
    }
   ],
   "source": [
    "s = \"welcome to data science\" #spliting by using space\n",
    "q = s.split(' ')\n",
    "print(q)"
   ]
  },
  {
   "cell_type": "code",
   "execution_count": 16,
   "id": "0c93df4c",
   "metadata": {},
   "outputs": [
    {
     "name": "stdout",
     "output_type": "stream",
     "text": [
      "['welcome ', 'o da', 'a science']\n"
     ]
    }
   ],
   "source": [
    "s = \"welcome to data science\" #spliting by particular letter or word\n",
    "q = s.split('t')\n",
    "print(q)"
   ]
  },
  {
   "cell_type": "code",
   "execution_count": 18,
   "id": "49552465",
   "metadata": {},
   "outputs": [
    {
     "name": "stdout",
     "output_type": "stream",
     "text": [
      "['welcome to Data sci', 'nce']\n"
     ]
    }
   ],
   "source": [
    "s = \"welcome to Data sciEnce\" #spliting b\n",
    "q = s.split('E')               #case sensitive data\n",
    "print(q)"
   ]
  },
  {
   "cell_type": "markdown",
   "id": "14d54af8",
   "metadata": {},
   "source": [
    "# Find function"
   ]
  },
  {
   "cell_type": "code",
   "execution_count": 20,
   "id": "703e7e23",
   "metadata": {},
   "outputs": [
    {
     "name": "stdout",
     "output_type": "stream",
     "text": [
      "11\n"
     ]
    }
   ],
   "source": [
    "s = \"welcome to data science\" #it gives a position of word \n",
    "q = s.find('data')\n",
    "print(q)"
   ]
  },
  {
   "cell_type": "code",
   "execution_count": 21,
   "id": "d0f3671b",
   "metadata": {},
   "outputs": [
    {
     "name": "stdout",
     "output_type": "stream",
     "text": [
      "-1\n"
     ]
    }
   ],
   "source": [
    "s = \"welcome to data science\" #\n",
    "q = s.find('9871562254')\n",
    "print(q)"
   ]
  },
  {
   "cell_type": "markdown",
   "id": "69a2fe9c",
   "metadata": {},
   "source": [
    "# Printing Tricks"
   ]
  },
  {
   "cell_type": "code",
   "execution_count": 22,
   "id": "20a7d6cd",
   "metadata": {},
   "outputs": [
    {
     "name": "stdout",
     "output_type": "stream",
     "text": [
      "apple\n"
     ]
    }
   ],
   "source": [
    "print('apple')"
   ]
  },
  {
   "cell_type": "code",
   "execution_count": 23,
   "id": "597764c6",
   "metadata": {},
   "outputs": [
    {
     "name": "stdout",
     "output_type": "stream",
     "text": [
      "apple,orange,kiwi\n"
     ]
    }
   ],
   "source": [
    "print('apple,orange,kiwi')"
   ]
  },
  {
   "cell_type": "code",
   "execution_count": 24,
   "id": "7a427415",
   "metadata": {},
   "outputs": [
    {
     "name": "stdout",
     "output_type": "stream",
     "text": [
      "apple\n",
      "orange\n",
      "kiwi\n"
     ]
    }
   ],
   "source": [
    "print('apple\\norange\\nkiwi') # \\n stands for newline"
   ]
  },
  {
   "cell_type": "code",
   "execution_count": 25,
   "id": "0cd810d9",
   "metadata": {},
   "outputs": [
    {
     "name": "stdout",
     "output_type": "stream",
     "text": [
      "apple\torange\tkiwi\n"
     ]
    }
   ],
   "source": [
    "print('apple\\torange\\tkiwi')  #\\t it gives tabular space         "
   ]
  },
  {
   "cell_type": "code",
   "execution_count": 27,
   "id": "be87cc70",
   "metadata": {},
   "outputs": [
    {
     "name": "stdout",
     "output_type": "stream",
     "text": [
      "'apple'\n",
      "\"apple\"\n"
     ]
    }
   ],
   "source": [
    "print('\\'apple\\'')\n",
    "print(\"\\\"apple\\\"\")"
   ]
  },
  {
   "cell_type": "code",
   "execution_count": 34,
   "id": "a08ecad5",
   "metadata": {},
   "outputs": [
    {
     "name": "stdout",
     "output_type": "stream",
     "text": [
      "\\apple\\\n"
     ]
    }
   ],
   "source": [
    "print('\\\\apple\\\\')\n"
   ]
  },
  {
   "cell_type": "code",
   "execution_count": 32,
   "id": "661ad516",
   "metadata": {},
   "outputs": [
    {
     "name": "stdout",
     "output_type": "stream",
     "text": [
      "apple\n"
     ]
    }
   ],
   "source": [
    "print('apple')"
   ]
  },
  {
   "cell_type": "markdown",
   "id": "4b5f7ab9",
   "metadata": {},
   "source": [
    "# join function"
   ]
  },
  {
   "cell_type": "code",
   "execution_count": 1,
   "id": "2d85ab4c",
   "metadata": {},
   "outputs": [
    {
     "name": "stdout",
     "output_type": "stream",
     "text": [
      "as,bd\n"
     ]
    }
   ],
   "source": [
    "a = ['as','bd'] #seprating by ','\n",
    "b = ','\n",
    "print(b.join(a))"
   ]
  },
  {
   "cell_type": "code",
   "execution_count": 2,
   "id": "10719976",
   "metadata": {},
   "outputs": [
    {
     "name": "stdout",
     "output_type": "stream",
     "text": [
      "as--bd\n"
     ]
    }
   ],
   "source": [
    "a = ['as','bd'] # seprating by '--'\n",
    "b = '--'\n",
    "print(b.join(a))"
   ]
  },
  {
   "cell_type": "code",
   "execution_count": 3,
   "id": "874cdb7c",
   "metadata": {},
   "outputs": [
    {
     "name": "stdout",
     "output_type": "stream",
     "text": [
      "as\n",
      "bd\n"
     ]
    }
   ],
   "source": [
    "a = ['as','bd'] #seprating by '\\n'\n",
    "b = '\\n'\n",
    "print(b.join(a))"
   ]
  },
  {
   "cell_type": "code",
   "execution_count": 4,
   "id": "9d0dc72e",
   "metadata": {},
   "outputs": [
    {
     "name": "stdout",
     "output_type": "stream",
     "text": [
      "as\tbd\n"
     ]
    }
   ],
   "source": [
    "a = ['as','bd'] #seprating by '\\t'\n",
    "b = '\\t'\n",
    "print(b.join(a))"
   ]
  },
  {
   "cell_type": "code",
   "execution_count": 6,
   "id": "ea033e70",
   "metadata": {},
   "outputs": [
    {
     "name": "stdout",
     "output_type": "stream",
     "text": [
      "as\n",
      "bd\n"
     ]
    }
   ],
   "source": [
    "a = ['as','bd'] #seprating by '\\n' #another way\n",
    "print('\\n'.join(a))"
   ]
  },
  {
   "cell_type": "code",
   "execution_count": 7,
   "id": "322cbee5",
   "metadata": {},
   "outputs": [
    {
     "name": "stdout",
     "output_type": "stream",
     "text": [
      "as\tbd\n"
     ]
    }
   ],
   "source": [
    "a = ['as','bd'] #seprating by '\\t' # another way\n",
    "print('\\t'.join(a))"
   ]
  },
  {
   "cell_type": "markdown",
   "id": "dfa715b5",
   "metadata": {},
   "source": [
    "# Format string"
   ]
  },
  {
   "cell_type": "code",
   "execution_count": 8,
   "id": "f89cd568",
   "metadata": {},
   "outputs": [
    {
     "name": "stdout",
     "output_type": "stream",
     "text": [
      "one two\n"
     ]
    }
   ],
   "source": [
    "print('{} {}'.format('one', 'two'))"
   ]
  },
  {
   "cell_type": "code",
   "execution_count": 9,
   "id": "46e51697",
   "metadata": {},
   "outputs": [
    {
     "name": "stdout",
     "output_type": "stream",
     "text": [
      "one two\n"
     ]
    }
   ],
   "source": [
    "print('{0} {1}'.format('one', 'two'))"
   ]
  },
  {
   "cell_type": "code",
   "execution_count": 10,
   "id": "ddfa95ce",
   "metadata": {},
   "outputs": [
    {
     "name": "stdout",
     "output_type": "stream",
     "text": [
      "two one\n"
     ]
    }
   ],
   "source": [
    "print('{1} {0}'.format('one', 'two')) # sequencing"
   ]
  },
  {
   "cell_type": "code",
   "execution_count": 12,
   "id": "6f5385a1",
   "metadata": {},
   "outputs": [
    {
     "name": "stdout",
     "output_type": "stream",
     "text": [
      "two two two two\n"
     ]
    }
   ],
   "source": [
    "print('{1} {1} {1} {1}'.format('one', 'two')) # reusing  + sequencing"
   ]
  },
  {
   "cell_type": "code",
   "execution_count": 13,
   "id": "988ff20d",
   "metadata": {},
   "outputs": [
    {
     "name": "stdout",
     "output_type": "stream",
     "text": [
      "two one one two\n"
     ]
    }
   ],
   "source": [
    "print('{1} {0} {0} {1}'.format('one', 'two'))"
   ]
  },
  {
   "cell_type": "code",
   "execution_count": 2,
   "id": "c6707225",
   "metadata": {},
   "outputs": [
    {
     "name": "stdout",
     "output_type": "stream",
     "text": [
      "test\n"
     ]
    }
   ],
   "source": [
    "print('{:>10}'.format('test'))# add space after string"
   ]
  },
  {
   "cell_type": "code",
   "execution_count": 15,
   "id": "55b26bc0",
   "metadata": {},
   "outputs": [
    {
     "name": "stdout",
     "output_type": "stream",
     "text": [
      "test      \n"
     ]
    }
   ],
   "source": [
    "print('{:<10}'.format('test'))# add space after string"
   ]
  },
  {
   "cell_type": "code",
   "execution_count": 16,
   "id": "28ea9250",
   "metadata": {},
   "outputs": [
    {
     "name": "stdout",
     "output_type": "stream",
     "text": [
      "test______\n"
     ]
    }
   ],
   "source": [
    "print('{:_<10}'.format('test'))# add '_' after string"
   ]
  },
  {
   "cell_type": "code",
   "execution_count": 17,
   "id": "6f3a8b81",
   "metadata": {},
   "outputs": [
    {
     "name": "stdout",
     "output_type": "stream",
     "text": [
      "test......\n"
     ]
    }
   ],
   "source": [
    "print('{:.<10}'.format('test'))# add \".\" after string"
   ]
  },
  {
   "cell_type": "code",
   "execution_count": 18,
   "id": "b6e98c25",
   "metadata": {},
   "outputs": [
    {
     "name": "stdout",
     "output_type": "stream",
     "text": [
      "......test\n"
     ]
    }
   ],
   "source": [
    "print('{:.>10}'.format('test'))# add '.' before string"
   ]
  },
  {
   "cell_type": "code",
   "execution_count": 4,
   "id": "63f964f1",
   "metadata": {},
   "outputs": [
    {
     "name": "stdout",
     "output_type": "stream",
     "text": [
      "aaaaaatest\n"
     ]
    }
   ],
   "source": [
    "print('{:a>20}'.format('test'))# add 'a' after string"
   ]
  },
  {
   "cell_type": "code",
   "execution_count": 21,
   "id": "738d739e",
   "metadata": {},
   "outputs": [
    {
     "name": "stdout",
     "output_type": "stream",
     "text": [
      "hhhhhhtest\n"
     ]
    }
   ],
   "source": [
    "print('{:h>10}'.format('test'))# add 'h' after string"
   ]
  },
  {
   "cell_type": "code",
   "execution_count": 6,
   "id": "c9e2b2d6",
   "metadata": {},
   "outputs": [
    {
     "name": "stdout",
     "output_type": "stream",
     "text": [
      "..zip..\n"
     ]
    }
   ],
   "source": [
    "print('{:.^7}'.format('zip'))# align string to center"
   ]
  },
  {
   "cell_type": "markdown",
   "id": "6ca6fa13",
   "metadata": {},
   "source": [
    "# conditional statement\n",
    "# if else"
   ]
  },
  {
   "cell_type": "code",
   "execution_count": 35,
   "id": "d9b63abd",
   "metadata": {},
   "outputs": [
    {
     "name": "stdout",
     "output_type": "stream",
     "text": [
      "20\n"
     ]
    }
   ],
   "source": [
    "a = 10\n",
    "b = 20\n",
    "if a > b:\n",
    "    print(a)\n",
    "else:\n",
    "    print(b)"
   ]
  },
  {
   "cell_type": "code",
   "execution_count": 29,
   "id": "bad6053d",
   "metadata": {},
   "outputs": [
    {
     "name": "stdout",
     "output_type": "stream",
     "text": [
      "20\n",
      "a is less than b:-\n"
     ]
    }
   ],
   "source": [
    "a = 10\n",
    "b = 20\n",
    "if a > b:\n",
    "    print(a)\n",
    "    print('a is greater than b:-')\n",
    "else:\n",
    "    print(b)\n",
    "    print('a is less than b:-')"
   ]
  },
  {
   "cell_type": "code",
   "execution_count": 30,
   "id": "70399edb",
   "metadata": {},
   "outputs": [
    {
     "name": "stdout",
     "output_type": "stream",
     "text": [
      "a is less than b:- 20\n"
     ]
    }
   ],
   "source": [
    "a = 10\n",
    "b = 20\n",
    "if a > b:\n",
    "    print('a is greater than b:-',a)\n",
    "else:\n",
    "    print('a is less than b:-',b)"
   ]
  },
  {
   "cell_type": "markdown",
   "id": "1f23e159",
   "metadata": {},
   "source": [
    "# if else nested"
   ]
  },
  {
   "cell_type": "code",
   "execution_count": 9,
   "id": "7afda919",
   "metadata": {},
   "outputs": [
    {
     "name": "stdout",
     "output_type": "stream",
     "text": [
      "c is greater2 500\n"
     ]
    }
   ],
   "source": [
    "a = 100\n",
    "b = 200\n",
    "c = 500\n",
    "if a > b:\n",
    "    if a > c:\n",
    "        print('a is greater')\n",
    "    else:\n",
    "            print('c is greaater1')\n",
    "elif b > c:\n",
    "    print('b is greater')\n",
    "else:\n",
    "        print('c is greater2',c)\n",
    "        "
   ]
  },
  {
   "cell_type": "markdown",
   "id": "339bc754",
   "metadata": {},
   "source": [
    "# Functions"
   ]
  },
  {
   "cell_type": "code",
   "execution_count": 11,
   "id": "19fa465a",
   "metadata": {},
   "outputs": [
    {
     "name": "stdout",
     "output_type": "stream",
     "text": [
      "15\n",
      "5\n"
     ]
    }
   ],
   "source": [
    "def add(a, b):\n",
    "    return a + b\n",
    "\n",
    "def sub(a, b):\n",
    "    return a - b\n",
    "\n",
    "p = 10\n",
    "q = 5\n",
    "\n",
    "r = add(p, q)\n",
    "print(r)\n",
    "\n",
    "s = sub(p,q)\n",
    "print(s)"
   ]
  },
  {
   "cell_type": "code",
   "execution_count": 12,
   "id": "792525d3",
   "metadata": {},
   "outputs": [
    {
     "name": "stdout",
     "output_type": "stream",
     "text": [
      "Addition: 15\n",
      "Substraction: 5\n"
     ]
    }
   ],
   "source": [
    "def add(a, b):\n",
    "    return a + b\n",
    "\n",
    "def sub(a, b):\n",
    "    return a - b\n",
    "\n",
    "p = 10\n",
    "q = 5\n",
    "\n",
    "r = add(p, q)\n",
    "print('Addition:',r)\n",
    "\n",
    "s = sub(p,q)\n",
    "print('Substraction:',s)"
   ]
  },
  {
   "cell_type": "code",
   "execution_count": 13,
   "id": "49524213",
   "metadata": {},
   "outputs": [
    {
     "name": "stdout",
     "output_type": "stream",
     "text": [
      "Addition: 15\n",
      "Substraction: 5\n"
     ]
    }
   ],
   "source": [
    "def add(a, b):\n",
    "    r  = a + b\n",
    "    return r\n",
    "\n",
    "def sub(a, b):\n",
    "    s = a - b\n",
    "    return s\n",
    "\n",
    "p = 10\n",
    "q = 5\n",
    "\n",
    "r = add(p, q)\n",
    "print('Addition:',r)\n",
    "\n",
    "s = sub(p,q)\n",
    "print('Substraction:',s)"
   ]
  },
  {
   "cell_type": "code",
   "execution_count": 17,
   "id": "55b2bb88",
   "metadata": {},
   "outputs": [
    {
     "name": "stdout",
     "output_type": "stream",
     "text": [
      "Name: thor\n",
      "Age: 1000\n",
      "Name: captain\n",
      "Age: 100\n"
     ]
    }
   ],
   "source": [
    "def avengers_bio(Name, Age):\n",
    "    print('Name:',Name)\n",
    "    print('Age:',Age)\n",
    "    \n",
    "n1 = 'thor'\n",
    "a1 = 1000\n",
    "n2 = 'captain'\n",
    "a2 = 100\n",
    "\n",
    "avengers_bio(n1,a1)\n",
    "avengers_bio(n2,a2)"
   ]
  },
  {
   "cell_type": "code",
   "execution_count": 18,
   "id": "1ab4346e",
   "metadata": {},
   "outputs": [
    {
     "name": "stdout",
     "output_type": "stream",
     "text": [
      "Name: thor Age: 1000\n",
      "Name: captain Age: 100\n"
     ]
    }
   ],
   "source": [
    "def avengers_bio(Name, Age):\n",
    "    print('Name:',Name, 'Age:',Age)\n",
    "    \n",
    "n1 = 'thor'\n",
    "a1 = 1000\n",
    "n2 = 'captain'\n",
    "a2 = 100\n",
    "\n",
    "avengers_bio(n1,a1)\n",
    "avengers_bio(n2,a2)"
   ]
  },
  {
   "cell_type": "code",
   "execution_count": 20,
   "id": "d5db019a",
   "metadata": {},
   "outputs": [
    {
     "name": "stdout",
     "output_type": "stream",
     "text": [
      "Name: thor Age: 1000 city: Asgaurd\n",
      "Name: captain Age: 100 city: Russia\n"
     ]
    }
   ],
   "source": [
    "def avengers_bio(Name, Age, city):\n",
    "    print('Name:',Name, 'Age:',Age, 'city:',city)\n",
    "    \n",
    "n1 = 'thor'\n",
    "a1 = 1000\n",
    "c1 = 'Asgaurd'\n",
    "n2 = 'captain'\n",
    "a2 = 100\n",
    "c2 = 'Russia'\n",
    "\n",
    "avengers_bio(n1,a1,c1)\n",
    "avengers_bio(n2,a2,c2)"
   ]
  },
  {
   "cell_type": "code",
   "execution_count": 21,
   "id": "47d977de",
   "metadata": {},
   "outputs": [
    {
     "name": "stdout",
     "output_type": "stream",
     "text": [
      "Name: thor Age: 1000 city: Asgaurd\n",
      "Name: captain Age: 100 city: Russia\n"
     ]
    }
   ],
   "source": [
    "def avengers_bio(N, A, c):\n",
    "    print('Name:',N, 'Age:',A, 'city:',c)\n",
    "    \n",
    "n1 = 'thor'\n",
    "a1 = 1000\n",
    "c1 = 'Asgaurd'\n",
    "n2 = 'captain'\n",
    "a2 = 100\n",
    "c2 = 'Russia'\n",
    "\n",
    "avengers_bio(n1,a1,c1)\n",
    "avengers_bio(n2,a2,c2)"
   ]
  },
  {
   "cell_type": "markdown",
   "id": "e0aaa0e7",
   "metadata": {},
   "source": [
    "# Conditional statements with Functions"
   ]
  },
  {
   "cell_type": "code",
   "execution_count": 25,
   "id": "32c68ea8",
   "metadata": {},
   "outputs": [
    {
     "name": "stdout",
     "output_type": "stream",
     "text": [
      "z is greatest2 50\n"
     ]
    }
   ],
   "source": [
    "def print_greatest(x, y, z):\n",
    "    if x > z:\n",
    "        if x > y:\n",
    "             print('x is greatest')\n",
    "        else:\n",
    "            print('z is greatest1')\n",
    "    elif y > z:\n",
    "        print('y is greatest')\n",
    "    else:\n",
    "        print('z is greatest2',)\n",
    "        \n",
    "x = 10\n",
    "y = 20\n",
    "z = 50\n",
    "\n",
    "print_greatest(x, y, z)\n",
    "        "
   ]
  },
  {
   "cell_type": "code",
   "execution_count": 29,
   "id": "8ace6d1a",
   "metadata": {},
   "outputs": [
    {
     "name": "stdout",
     "output_type": "stream",
     "text": [
      "50 is greatest\n"
     ]
    }
   ],
   "source": [
    "def print_greatest(x, y, z):\n",
    "    greatest = -1;\n",
    "    if x > z:\n",
    "        if x > y:\n",
    "             greatest = x\n",
    "        else:\n",
    "             greatest = z\n",
    "    elif y > z:\n",
    "         greatest = y\n",
    "    else:\n",
    "        greatest = z\n",
    "        print(greatest,'is greatest')    \n",
    "        \n",
    "x = 10\n",
    "y = 20\n",
    "z = 50\n",
    "\n",
    "print_greatest(x, y, z)\n",
    "        "
   ]
  },
  {
   "cell_type": "code",
   "execution_count": 33,
   "id": "15951261",
   "metadata": {},
   "outputs": [
    {
     "name": "stdout",
     "output_type": "stream",
     "text": [
      "50 is greatest\n"
     ]
    }
   ],
   "source": [
    "def get_greatest(x, y, z):\n",
    "    greatest = -1;\n",
    "    if x > z:\n",
    "        if x > y:\n",
    "             greatest = x\n",
    "        else:\n",
    "             greatest = z\n",
    "    elif y > z:\n",
    "         greatest = y\n",
    "    else:\n",
    "        greatest = z\n",
    "        return greatest\n",
    "        \n",
    "x = 10\n",
    "y = 20\n",
    "z = 50\n",
    "\n",
    "g = get_greatest(x, y, z)\n",
    "print(g,'is greatest')    \n",
    "        "
   ]
  },
  {
   "cell_type": "markdown",
   "id": "47b18583",
   "metadata": {},
   "source": [
    "# While loop"
   ]
  },
  {
   "cell_type": "code",
   "execution_count": 7,
   "id": "0c5f68ce",
   "metadata": {},
   "outputs": [
    {
     "name": "stdout",
     "output_type": "stream",
     "text": [
      "0\n",
      "1\n",
      "2\n",
      "3\n",
      "4\n",
      "5\n",
      "6\n",
      "7\n",
      "8\n",
      "9\n",
      "Done\n"
     ]
    }
   ],
   "source": [
    "i = 0\n",
    "while i < 10:\n",
    "    print(i)\n",
    "    i = i + 1\n",
    "    \n",
    "print('Done')    "
   ]
  },
  {
   "cell_type": "code",
   "execution_count": 8,
   "id": "33ab3408",
   "metadata": {},
   "outputs": [
    {
     "name": "stdout",
     "output_type": "stream",
     "text": [
      "i =  0\n",
      "i =  1\n",
      "i =  2\n",
      "i =  3\n",
      "i =  4\n",
      "i =  5\n",
      "i =  6\n",
      "i =  7\n",
      "i =  8\n",
      "i =  9\n",
      "Done\n"
     ]
    }
   ],
   "source": [
    "i = 0\n",
    "while i < 10:\n",
    "    print('i = ',i)\n",
    "    i = i + 1\n",
    "    \n",
    "print('Done')    "
   ]
  },
  {
   "cell_type": "code",
   "execution_count": 11,
   "id": "669fa0cf",
   "metadata": {},
   "outputs": [
    {
     "name": "stdout",
     "output_type": "stream",
     "text": [
      "1\n",
      "1\n",
      "2\n",
      "3\n",
      "5\n",
      "8\n",
      "13\n",
      "21\n"
     ]
    }
   ],
   "source": [
    "# print fibonacii number\n",
    "#1,1,2,3,5....n\n",
    "def print_fibo(n):\n",
    "    n1 = 1\n",
    "    n2 = 1\n",
    "    i = 0\n",
    "    while i < n:\n",
    "        print(n1)\n",
    "        i = i + 1\n",
    "        temp = n2\n",
    "        n2 = n1 + n2\n",
    "        n1 = temp\n",
    "        \n",
    "print_fibo(8)        "
   ]
  },
  {
   "cell_type": "markdown",
   "id": "e8ae3508",
   "metadata": {},
   "source": [
    "# List data structure"
   ]
  },
  {
   "cell_type": "code",
   "execution_count": 12,
   "id": "d077c3cd",
   "metadata": {},
   "outputs": [
    {
     "data": {
      "text/plain": [
       "[1, 2, 3, 4, 5, 6]"
      ]
     },
     "execution_count": 12,
     "metadata": {},
     "output_type": "execute_result"
    }
   ],
   "source": [
    "p = [1,2,3,4,5,6]\n",
    "p"
   ]
  },
  {
   "cell_type": "code",
   "execution_count": 13,
   "id": "ac2e459e",
   "metadata": {},
   "outputs": [
    {
     "data": {
      "text/plain": [
       "[]"
      ]
     },
     "execution_count": 13,
     "metadata": {},
     "output_type": "execute_result"
    }
   ],
   "source": [
    "q = [] #empty list\n",
    "q"
   ]
  },
  {
   "cell_type": "code",
   "execution_count": 16,
   "id": "0babbb63",
   "metadata": {},
   "outputs": [
    {
     "data": {
      "text/plain": [
       "3"
      ]
     },
     "execution_count": 16,
     "metadata": {},
     "output_type": "execute_result"
    }
   ],
   "source": [
    "p = [1,2,3,4,5,6] # for accesing the elemenet in list\n",
    "p[2]\n"
   ]
  },
  {
   "cell_type": "code",
   "execution_count": 17,
   "id": "3ecb4784",
   "metadata": {},
   "outputs": [
    {
     "data": {
      "text/plain": [
       "[1, 2, 3, 4, 5]"
      ]
     },
     "execution_count": 17,
     "metadata": {},
     "output_type": "execute_result"
    }
   ],
   "source": [
    "p = [1,2,3,4,5,6]# it prints range of element that you specify.\n",
    "p[0:5]"
   ]
  },
  {
   "cell_type": "code",
   "execution_count": 18,
   "id": "6f563da9",
   "metadata": {},
   "outputs": [
    {
     "data": {
      "text/plain": [
       "[1, 2, 3, 4, 'sam', 'raj']"
      ]
     },
     "execution_count": 18,
     "metadata": {},
     "output_type": "execute_result"
    }
   ],
   "source": [
    "a = [1,2,3,4,'sam','raj'] # hetrogenious list\n",
    "a"
   ]
  },
  {
   "cell_type": "markdown",
   "id": "dc82e821",
   "metadata": {},
   "source": [
    "# List of string"
   ]
  },
  {
   "cell_type": "code",
   "execution_count": 19,
   "id": "8ac90a04",
   "metadata": {},
   "outputs": [
    {
     "name": "stdout",
     "output_type": "stream",
     "text": [
      "list of string: ['ab', 'cd', 'ef', 'gh']\n"
     ]
    }
   ],
   "source": [
    "a = ['ab','cd','ef','gh']\n",
    "print('list of string:',a)"
   ]
  },
  {
   "cell_type": "code",
   "execution_count": 21,
   "id": "b9671bdd",
   "metadata": {},
   "outputs": [
    {
     "data": {
      "text/plain": [
       "['ab', 'cd', 'ef', 'gh', 'xz']"
      ]
     },
     "execution_count": 21,
     "metadata": {},
     "output_type": "execute_result"
    }
   ],
   "source": [
    "a = ['ab','cd','ef','gh'] # to add element in list\n",
    "a.append('xz')\n",
    "a         "
   ]
  },
  {
   "cell_type": "code",
   "execution_count": 23,
   "id": "f0b0f3bd",
   "metadata": {},
   "outputs": [
    {
     "data": {
      "text/plain": [
       "5"
      ]
     },
     "execution_count": 23,
     "metadata": {},
     "output_type": "execute_result"
    }
   ],
   "source": [
    "a = ['ab','cd','ef','gh','xz']\n",
    "len(a)"
   ]
  },
  {
   "cell_type": "code",
   "execution_count": 26,
   "id": "4ddfffe3",
   "metadata": {},
   "outputs": [
    {
     "name": "stdout",
     "output_type": "stream",
     "text": [
      "to access last element of list: gh\n"
     ]
    }
   ],
   "source": [
    "a = ['ab','cd','ef','gh']\n",
    "print('accessing last element of list:',a[3])"
   ]
  },
  {
   "cell_type": "code",
   "execution_count": 27,
   "id": "05cf0b82",
   "metadata": {},
   "outputs": [
    {
     "name": "stdout",
     "output_type": "stream",
     "text": [
      "accessing last element of list: gh\n"
     ]
    }
   ],
   "source": [
    "a = ['ab','cd','ef','gh']\n",
    "print('accessing last element of list:',a[-1])"
   ]
  },
  {
   "cell_type": "code",
   "execution_count": 28,
   "id": "edba473a",
   "metadata": {},
   "outputs": [
    {
     "name": "stdout",
     "output_type": "stream",
     "text": [
      "accessing second last element of list: ef ef\n"
     ]
    }
   ],
   "source": [
    "a = ['ab','cd','ef','gh']\n",
    "print('accessing second last element of list:',a[2],a[-2])"
   ]
  },
  {
   "cell_type": "markdown",
   "id": "7eab67cd",
   "metadata": {},
   "source": [
    "# Printing list of string with while loop"
   ]
  },
  {
   "cell_type": "code",
   "execution_count": 3,
   "id": "7f171e41",
   "metadata": {},
   "outputs": [
    {
     "name": "stdout",
     "output_type": "stream",
     "text": [
      "ab 1\n",
      "cd 2\n",
      "ef 3\n",
      "gh 4\n"
     ]
    }
   ],
   "source": [
    "a = ['ab','cd','ef','gh']\n",
    "b = [1,2,3,4]\n",
    "i = 0\n",
    "while i < 4:\n",
    "    print(a[i],b[i])\n",
    "    i = i+1"
   ]
  },
  {
   "cell_type": "code",
   "execution_count": 6,
   "id": "eabda535",
   "metadata": {},
   "outputs": [
    {
     "data": {
      "text/plain": [
       "[1, 2, 3, 4, 5, 'raj', 'sam', 6]"
      ]
     },
     "execution_count": 6,
     "metadata": {},
     "output_type": "execute_result"
    }
   ],
   "source": [
    "p = [1,2,3,4,5,'raj','sam'] # to add element\n",
    "p.append(6)\n",
    "p"
   ]
  },
  {
   "cell_type": "code",
   "execution_count": 7,
   "id": "53fa886d",
   "metadata": {},
   "outputs": [
    {
     "data": {
      "text/plain": [
       "[1, 2, 3, 4, 5, 'raj', 'sam', 'nik']"
      ]
     },
     "execution_count": 7,
     "metadata": {},
     "output_type": "execute_result"
    }
   ],
   "source": [
    "p = [1,2,3,4,5,'raj','sam']\n",
    "p.append('nik')\n",
    "p"
   ]
  },
  {
   "cell_type": "code",
   "execution_count": 11,
   "id": "d1f40fed",
   "metadata": {},
   "outputs": [
    {
     "data": {
      "text/plain": [
       "[1, 2, 3, 4, 'raj', 'sam']"
      ]
     },
     "execution_count": 11,
     "metadata": {},
     "output_type": "execute_result"
    }
   ],
   "source": [
    "p = [1,2,3,4,5,'raj','sam'] # to remove element\n",
    "p.remove(5)\n",
    "p"
   ]
  },
  {
   "cell_type": "code",
   "execution_count": 9,
   "id": "b70c6c63",
   "metadata": {},
   "outputs": [
    {
     "data": {
      "text/plain": [
       "[1, 2, 3, 4, 5, 'raj']"
      ]
     },
     "execution_count": 9,
     "metadata": {},
     "output_type": "execute_result"
    }
   ],
   "source": [
    "p = [1,2,3,4,5,'raj','sam']\n",
    "p.remove('sam')\n",
    "p"
   ]
  },
  {
   "cell_type": "code",
   "execution_count": 12,
   "id": "c291b64a",
   "metadata": {},
   "outputs": [
    {
     "data": {
      "text/plain": [
       "[1, 2, 3, 4, 5, 'nik', 'sam']"
      ]
     },
     "execution_count": 12,
     "metadata": {},
     "output_type": "execute_result"
    }
   ],
   "source": [
    "p = [1,2,3,4,5,'raj','sam'] # to replace element\n",
    "p[5] = 'nik'\n",
    "p"
   ]
  },
  {
   "cell_type": "code",
   "execution_count": 13,
   "id": "42c82770",
   "metadata": {},
   "outputs": [
    {
     "data": {
      "text/plain": [
       "[1, 2, 3, 4, 5, 6, 'sam']"
      ]
     },
     "execution_count": 13,
     "metadata": {},
     "output_type": "execute_result"
    }
   ],
   "source": [
    "p = [1,2,3,4,5,'raj','sam'] # we can replace it with no also\n",
    "p[5] = 6\n",
    "p"
   ]
  },
  {
   "cell_type": "markdown",
   "id": "f2bcdcb2",
   "metadata": {},
   "source": [
    "# Concatenation"
   ]
  },
  {
   "cell_type": "code",
   "execution_count": 14,
   "id": "1fbab7db",
   "metadata": {},
   "outputs": [
    {
     "name": "stdout",
     "output_type": "stream",
     "text": [
      "[1, 2, 3, 4, 5, 6, 7, 8]\n"
     ]
    }
   ],
   "source": [
    "l1 = [1,2,3,4]\n",
    "l2 = [5,6,7,8]\n",
    "print(l1+l2)"
   ]
  },
  {
   "cell_type": "code",
   "execution_count": 15,
   "id": "dddb3e26",
   "metadata": {},
   "outputs": [
    {
     "name": "stdout",
     "output_type": "stream",
     "text": [
      "[1, 2, 3, 4, 5, 6, 7, 8]\n"
     ]
    }
   ],
   "source": [
    "l1 = [1,2,3,4] # another way\n",
    "l2 = [5,6,7,8]\n",
    "l = l1 + l2\n",
    "print(l)"
   ]
  },
  {
   "cell_type": "code",
   "execution_count": 16,
   "id": "628ca699",
   "metadata": {},
   "outputs": [
    {
     "name": "stdout",
     "output_type": "stream",
     "text": [
      "[1, 2, 3, 4, 5, 6, 7, 8, 9, 10]\n"
     ]
    }
   ],
   "source": [
    "l1 = [1,2,3,4] # add multiple list\n",
    "l2 = [5,6,7,8]\n",
    "l3 = [9,10]\n",
    "l = l1 + l2 +l3\n",
    "print(l)"
   ]
  },
  {
   "cell_type": "code",
   "execution_count": 17,
   "id": "3da529a5",
   "metadata": {},
   "outputs": [
    {
     "name": "stdout",
     "output_type": "stream",
     "text": [
      "[1, 2, 3, 4]\n"
     ]
    }
   ],
   "source": [
    "l1 = [1,2,3,4]   # empty list\n",
    "l2 = []\n",
    "print(l1+l2)"
   ]
  },
  {
   "cell_type": "code",
   "execution_count": 19,
   "id": "77ade086",
   "metadata": {},
   "outputs": [
    {
     "name": "stdout",
     "output_type": "stream",
     "text": [
      "[1, 2, 3, 4, 1]\n"
     ]
    }
   ],
   "source": [
    "l1 = [1,2,3,4] # concatenate with list only\n",
    "l2 = [1]\n",
    "print(l1+l2)"
   ]
  },
  {
   "cell_type": "markdown",
   "id": "998184e2",
   "metadata": {},
   "source": [
    "# Repeatation"
   ]
  },
  {
   "cell_type": "code",
   "execution_count": 23,
   "id": "de86ea27",
   "metadata": {},
   "outputs": [
    {
     "name": "stdout",
     "output_type": "stream",
     "text": [
      "[1, 2, 3, 4, 1, 2, 3, 4, 1, 2, 3, 4, 1, 2, 3, 4]\n"
     ]
    }
   ],
   "source": [
    "l1 = [1,2,3,4]\n",
    "print(l1*4)"
   ]
  },
  {
   "cell_type": "code",
   "execution_count": 21,
   "id": "1dad6003",
   "metadata": {},
   "outputs": [
    {
     "name": "stdout",
     "output_type": "stream",
     "text": [
      "[1, 2, 3, 4]\n"
     ]
    }
   ],
   "source": [
    "l1 = [1,2,3,4]\n",
    "print(l1*1)"
   ]
  },
  {
   "cell_type": "code",
   "execution_count": 22,
   "id": "e7e5eabe",
   "metadata": {},
   "outputs": [
    {
     "name": "stdout",
     "output_type": "stream",
     "text": [
      "[]\n"
     ]
    }
   ],
   "source": [
    "l1 = [1,2,3,4]\n",
    "print(l1*0)    # it give you  null string"
   ]
  },
  {
   "cell_type": "code",
   "execution_count": 2,
   "id": "09f70adc",
   "metadata": {},
   "outputs": [
    {
     "name": "stdout",
     "output_type": "stream",
     "text": [
      "lenth:  4\n",
      "4 8 12 16\n"
     ]
    }
   ],
   "source": [
    "# multiplying with lenth\n",
    "l1 = [1,2,3,4]\n",
    "print('lenth: ',len(l1))\n",
    "print(len(l1*1), len(l1*2), len(l1*3), len(l1*4))"
   ]
  },
  {
   "cell_type": "code",
   "execution_count": 29,
   "id": "fc127b35",
   "metadata": {},
   "outputs": [
    {
     "name": "stdout",
     "output_type": "stream",
     "text": [
      "True\n"
     ]
    }
   ],
   "source": [
    "a = ['apple','banana','oranges','mango'] # to find or check element\n",
    "print('apple' in a)"
   ]
  },
  {
   "cell_type": "code",
   "execution_count": 30,
   "id": "76983c09",
   "metadata": {},
   "outputs": [
    {
     "name": "stdout",
     "output_type": "stream",
     "text": [
      "False\n"
     ]
    }
   ],
   "source": [
    "a = ['apple','banana','oranges','mango'] # case sensetive\n",
    "print('Apple' in a)"
   ]
  },
  {
   "cell_type": "code",
   "execution_count": 31,
   "id": "839f6d97",
   "metadata": {},
   "outputs": [
    {
     "name": "stdout",
     "output_type": "stream",
     "text": [
      "True\n"
     ]
    }
   ],
   "source": [
    "a = ['apple','banana','oranges','mango']\n",
    "if 'mango' in a:\n",
    "    print(True)\n",
    "else:\n",
    "    print(False)"
   ]
  },
  {
   "cell_type": "markdown",
   "id": "1a994941",
   "metadata": {},
   "source": [
    "# Bubble sort\n"
   ]
  },
  {
   "cell_type": "code",
   "execution_count": 1,
   "id": "8d115057",
   "metadata": {},
   "outputs": [
    {
     "name": "stdout",
     "output_type": "stream",
     "text": [
      "lenth of l: 9\n",
      "before: [2, 5, 7, 8, 9, 5, 44, 7, 8]\n",
      "after [2, 5, 5, 7, 7, 8, 8, 9, 44]\n"
     ]
    }
   ],
   "source": [
    "l = [2,5,7,8,9,5,44,7,8]\n",
    "i = 0\n",
    "print('lenth of l:',len(l))\n",
    "print('before:',l)\n",
    "while i < len(l):\n",
    "    j = 0\n",
    "    while j < i:\n",
    "        if l[i] < l[j]:\n",
    "            \n",
    "            temp = l[i]\n",
    "            l[i] = l[j]\n",
    "            l[j] = temp\n",
    "        j = j + 1\n",
    "    i = i + 1\n",
    "print('after',l)    "
   ]
  },
  {
   "cell_type": "markdown",
   "id": "effb08b3",
   "metadata": {},
   "source": [
    "# For loop"
   ]
  },
  {
   "cell_type": "code",
   "execution_count": 2,
   "id": "78b42db5",
   "metadata": {},
   "outputs": [
    {
     "name": "stdout",
     "output_type": "stream",
     "text": [
      "1\n",
      "2\n",
      "3\n",
      "4\n",
      "5\n",
      "6\n"
     ]
    }
   ],
   "source": [
    "a = [1,2,3,4,5,6]\n",
    "for i in a:\n",
    "    print(i)"
   ]
  },
  {
   "cell_type": "code",
   "execution_count": 3,
   "id": "4b8199ce",
   "metadata": {},
   "outputs": [
    {
     "name": "stdout",
     "output_type": "stream",
     "text": [
      "apple\n",
      "mango\n",
      "banana\n",
      "oranges\n"
     ]
    }
   ],
   "source": [
    "b = ['apple','mango','banana','oranges']\n",
    "for i in b:\n",
    "    print(i)"
   ]
  },
  {
   "cell_type": "markdown",
   "id": "76bf67a9",
   "metadata": {},
   "source": [
    "# sum of elements in list"
   ]
  },
  {
   "cell_type": "code",
   "execution_count": 4,
   "id": "4eb276d8",
   "metadata": {},
   "outputs": [
    {
     "name": "stdout",
     "output_type": "stream",
     "text": [
      "10\n"
     ]
    }
   ],
   "source": [
    "a = [1,2,3,4]\n",
    "s = 0\n",
    "for i in a:\n",
    "    s = s + i\n",
    "print(s)    "
   ]
  },
  {
   "cell_type": "markdown",
   "id": "b6c6b19d",
   "metadata": {},
   "source": [
    "# concatenation of list using for loop"
   ]
  },
  {
   "cell_type": "code",
   "execution_count": 6,
   "id": "42388aac",
   "metadata": {},
   "outputs": [
    {
     "name": "stdout",
     "output_type": "stream",
     "text": [
      "HiAmNotRobot\n"
     ]
    }
   ],
   "source": [
    "b = ['Hi','Am','Not','Robot']\n",
    "c = ''\n",
    "for i in b:\n",
    "    c = c + i\n",
    "print(c)    "
   ]
  },
  {
   "cell_type": "markdown",
   "id": "28ae9202",
   "metadata": {},
   "source": [
    "# Range() method"
   ]
  },
  {
   "cell_type": "code",
   "execution_count": 10,
   "id": "5c46a8c8",
   "metadata": {},
   "outputs": [
    {
     "name": "stdout",
     "output_type": "stream",
     "text": [
      "0 1\n",
      "1 2\n",
      "2 3\n",
      "3 4\n",
      "4 5\n",
      "5 6\n",
      "6 7\n",
      "7 8\n",
      "8 9\n"
     ]
    }
   ],
   "source": [
    "a = [1,2,3,4,5,6,7,8,9]\n",
    "for i in range(0,len(a)):\n",
    "      print(i,a[i])"
   ]
  },
  {
   "cell_type": "markdown",
   "id": "ed6988bf",
   "metadata": {},
   "source": [
    "# Break statement"
   ]
  },
  {
   "cell_type": "code",
   "execution_count": 13,
   "id": "5336a1ce",
   "metadata": {},
   "outputs": [
    {
     "name": "stdout",
     "output_type": "stream",
     "text": [
      "1\n",
      "2\n",
      "3\n",
      "4\n",
      "5\n"
     ]
    }
   ],
   "source": [
    "a = [1,2,3,4,5,6,7,8,9]\n",
    "for i in a:\n",
    "    if i == 6:\n",
    "        break\n",
    "    print(i)    "
   ]
  },
  {
   "cell_type": "markdown",
   "id": "6549016d",
   "metadata": {},
   "source": [
    "# Continue statement"
   ]
  },
  {
   "cell_type": "code",
   "execution_count": 20,
   "id": "dad2648f",
   "metadata": {},
   "outputs": [
    {
     "name": "stdout",
     "output_type": "stream",
     "text": [
      "66\n"
     ]
    }
   ],
   "source": [
    "a = [1,2,3,5,66,45,88,123]\n",
    "def first_greater(first):\n",
    "    for i in first:\n",
    "        if i < 36:\n",
    "            continue\n",
    "        return i\n",
    "print(first_greater(a))    "
   ]
  },
  {
   "cell_type": "markdown",
   "id": "4cb547d5",
   "metadata": {},
   "source": [
    " # For loop Nesting"
   ]
  },
  {
   "cell_type": "code",
   "execution_count": 21,
   "id": "6b362e63",
   "metadata": {},
   "outputs": [
    {
     "name": "stdout",
     "output_type": "stream",
     "text": [
      "1 apple\n",
      "1 mango\n",
      "1 grapes\n",
      "1 banana\n",
      "2 apple\n",
      "2 mango\n",
      "2 grapes\n",
      "2 banana\n",
      "3 apple\n",
      "3 mango\n",
      "3 grapes\n",
      "3 banana\n",
      "4 apple\n",
      "4 mango\n",
      "4 grapes\n",
      "4 banana\n"
     ]
    }
   ],
   "source": [
    "a = [1,2,3,4]\n",
    "b = ['apple','mango','grapes','banana']\n",
    "for i in a:\n",
    "    for j in b:\n",
    "        print(i,j)\n"
   ]
  },
  {
   "cell_type": "markdown",
   "id": "58bd7869",
   "metadata": {},
   "source": [
    "# Dictionary"
   ]
  },
  {
   "cell_type": "code",
   "execution_count": 3,
   "id": "58b3697b",
   "metadata": {},
   "outputs": [
    {
     "name": "stdout",
     "output_type": "stream",
     "text": [
      "2\n",
      "9\n",
      "{'apple': 2, 'banana': 4, 'mango': 7, 'orange': 9}\n"
     ]
    }
   ],
   "source": [
    "#Dictionary contains key value pair\n",
    "#key value pair called item\n",
    "# Items are not present in sequence\n",
    "a = {'apple':2,'banana':4,'mango':7,'orange':9}\n",
    "print(a['apple'])\n",
    "print(a['orange'])\n",
    "print(a)"
   ]
  },
  {
   "cell_type": "code",
   "execution_count": 4,
   "id": "0ed02a91",
   "metadata": {},
   "outputs": [
    {
     "name": "stdout",
     "output_type": "stream",
     "text": [
      "apple\n",
      "banana\n",
      "mango\n",
      "orange\n"
     ]
    }
   ],
   "source": [
    "#Printing keys in dictionary\n",
    "a = {'apple':2,'banana':4,'mango':7,'orange':9}\n",
    "for i in a:\n",
    "    print(i)"
   ]
  },
  {
   "cell_type": "code",
   "execution_count": 5,
   "id": "665f15c1",
   "metadata": {},
   "outputs": [
    {
     "name": "stdout",
     "output_type": "stream",
     "text": [
      "apple 2\n",
      "banana 4\n",
      "mango 7\n",
      "orange 9\n"
     ]
    }
   ],
   "source": [
    "#Printing keys and values both with items()method\n",
    "a = {'apple':2,'banana':4,'mango':7,'orange':9}\n",
    "for i,j in a.items():\n",
    "    print(i,j)"
   ]
  },
  {
   "cell_type": "markdown",
   "id": "7791bd5e",
   "metadata": {},
   "source": [
    "# Importing liabraries"
   ]
  },
  {
   "cell_type": "code",
   "execution_count": 7,
   "id": "fae730d3",
   "metadata": {},
   "outputs": [
    {
     "name": "stdout",
     "output_type": "stream",
     "text": [
      "0.8414709848078965\n"
     ]
    }
   ],
   "source": [
    "import math\n",
    "print(math.sin(1))"
   ]
  },
  {
   "cell_type": "code",
   "execution_count": 8,
   "id": "b6313094",
   "metadata": {},
   "outputs": [
    {
     "name": "stdout",
     "output_type": "stream",
     "text": [
      "0.5403023058681398\n"
     ]
    }
   ],
   "source": [
    "import math\n",
    "print(math.cos(1))"
   ]
  },
  {
   "cell_type": "code",
   "execution_count": 11,
   "id": "2e7f0447",
   "metadata": {},
   "outputs": [
    {
     "name": "stdout",
     "output_type": "stream",
     "text": [
      "Hour: 11\n",
      "Minute: 25\n",
      "seconds: 8\n"
     ]
    }
   ],
   "source": [
    "#printing time\n",
    "import datetime\n",
    "t = datetime.time(11,25,8)# hr,min,sec\n",
    "print('Hour:',t.hour)\n",
    "print('Minute:',t.minute)\n",
    "print('seconds:',t.second)"
   ]
  },
  {
   "cell_type": "code",
   "execution_count": 13,
   "id": "92188f7e",
   "metadata": {},
   "outputs": [
    {
     "name": "stdout",
     "output_type": "stream",
     "text": [
      "year: 2020\n",
      "month: 7\n",
      "day: 21\n"
     ]
    }
   ],
   "source": [
    "#printing date\n",
    "import datetime\n",
    "d = datetime.date(2020,7,21)#year,month,day\n",
    "print('year:',d.year)\n",
    "print('month:',d.month)\n",
    "print('day:',d.day)"
   ]
  },
  {
   "cell_type": "code",
   "execution_count": 17,
   "id": "e65131a3",
   "metadata": {},
   "outputs": [
    {
     "name": "stdout",
     "output_type": "stream",
     "text": [
      "Hour: 12\n",
      "Minute: 19\n",
      "seconds: 12\n",
      "microsecond: 748397\n"
     ]
    }
   ],
   "source": [
    "#printing current time\n",
    "import datetime\n",
    "t = datetime.datetime.now()# hr,min,sec\n",
    "print('Hour:',t.hour)\n",
    "print('Minute:',t.minute)\n",
    "print('seconds:',t.second)\n",
    "print('microsecond:',t.microsecond)"
   ]
  },
  {
   "cell_type": "code",
   "execution_count": 18,
   "id": "d9add8cc",
   "metadata": {},
   "outputs": [
    {
     "name": "stdout",
     "output_type": "stream",
     "text": [
      "year: 2021\n",
      "month: 7\n",
      "day: 24\n"
     ]
    }
   ],
   "source": [
    "#printing  current date\n",
    "import datetime\n",
    "d = datetime.datetime.now()#year,month,day\n",
    "print('year:',d.year)\n",
    "print('month:',d.month)\n",
    "print('day:',d.day)"
   ]
  },
  {
   "cell_type": "code",
   "execution_count": 19,
   "id": "7bbebb9d",
   "metadata": {},
   "outputs": [
    {
     "name": "stdout",
     "output_type": "stream",
     "text": [
      "2021-07-24\n"
     ]
    }
   ],
   "source": [
    "#sub-modules\n",
    "from datetime import date\n",
    "print(date.today())"
   ]
  },
  {
   "cell_type": "code",
   "execution_count": 1,
   "id": "a7f03c74",
   "metadata": {},
   "outputs": [
    {
     "name": "stdout",
     "output_type": "stream",
     "text": [
      "Difference of date: 734 days, 0:00:00\n"
     ]
    }
   ],
   "source": [
    "#Printing difference between dates\n",
    "from datetime import date\n",
    "a = date(2021,7,24)\n",
    "b = date(2019,7,21)\n",
    "\n",
    "print('Difference of date:',a-b)"
   ]
  },
  {
   "cell_type": "code",
   "execution_count": 24,
   "id": "fc5506e9",
   "metadata": {},
   "outputs": [
    {
     "name": "stdout",
     "output_type": "stream",
     "text": [
      "Diff. between date and time: 3 days, 0:05:01\n"
     ]
    }
   ],
   "source": [
    "#printing difference between date and time\n",
    "from datetime import datetime\n",
    "\n",
    "a = datetime(2021,7,24, 12,30,5)\n",
    "b = datetime(2021,7,21, 12,25,4)\n",
    "\n",
    "print('Diff. between date and time:',a-b)\n"
   ]
  },
  {
   "cell_type": "markdown",
   "id": "89f61ec5",
   "metadata": {},
   "source": [
    "# Recursion"
   ]
  },
  {
   "cell_type": "code",
   "execution_count": 2,
   "id": "98048de2",
   "metadata": {},
   "outputs": [
    {
     "name": "stdout",
     "output_type": "stream",
     "text": [
      "24\n"
     ]
    }
   ],
   "source": [
    "# It means that a function calls itself. \n",
    "# This has the benefit of meaning \n",
    "# that you can loop through data to reach\n",
    "# a result.\n",
    "#printing factorial of n numbers\n",
    "# 4*3*2*1\n",
    "def factorial(n):\n",
    "    if n == 1:\n",
    "        return 1\n",
    "    else:\n",
    "        return n*factorial(n-1)\n",
    "print(factorial(4))    "
   ]
  },
  {
   "cell_type": "code",
   "execution_count": 3,
   "id": "4063bbab",
   "metadata": {},
   "outputs": [
    {
     "name": "stdout",
     "output_type": "stream",
     "text": [
      "30\n"
     ]
    }
   ],
   "source": [
    "#printing sum of square of numbers\n",
    "#4*3*2*1\n",
    "#16+9+4+1=30\n",
    "def sum_square(n):\n",
    "    if n == 1:\n",
    "        return 1\n",
    "    else:\n",
    "        return n*n + sum_square(n-1)\n",
    "    \n",
    "print(sum_square(4))    "
   ]
  },
  {
   "cell_type": "code",
   "execution_count": 5,
   "id": "791a7b33",
   "metadata": {},
   "outputs": [
    {
     "name": "stdout",
     "output_type": "stream",
     "text": [
      "['False', 'None', 'True', 'and', 'as', 'assert', 'async', 'await', 'break', 'class', 'continue', 'def', 'del', 'elif', 'else', 'except', 'finally', 'for', 'from', 'global', 'if', 'import', 'in', 'is', 'lambda', 'nonlocal', 'not', 'or', 'pass', 'raise', 'return', 'try', 'while', 'with', 'yield']\n",
      "total keywords: 35\n"
     ]
    }
   ],
   "source": [
    "import keyword\n",
    "print(keyword.kwlist)\n",
    "print('total keywords:',len(keyword.kwlist))"
   ]
  },
  {
   "cell_type": "code",
   "execution_count": 6,
   "id": "d64b110b",
   "metadata": {},
   "outputs": [
    {
     "name": "stdout",
     "output_type": "stream",
     "text": [
      "sys.version_info(major=3, minor=8, micro=8, releaselevel='final', serial=0)\n"
     ]
    }
   ],
   "source": [
    "import sys\n",
    "print(sys.version_info)"
   ]
  },
  {
   "cell_type": "markdown",
   "id": "9b76e7bc",
   "metadata": {},
   "source": [
    "# Logical oprators"
   ]
  },
  {
   "cell_type": "markdown",
   "id": "5ff6f7b6",
   "metadata": {},
   "source": [
    "# And"
   ]
  },
  {
   "cell_type": "code",
   "execution_count": 7,
   "id": "6c95f59f",
   "metadata": {},
   "outputs": [
    {
     "name": "stdout",
     "output_type": "stream",
     "text": [
      "True\n",
      "False\n"
     ]
    }
   ],
   "source": [
    "print(1<5 and 2<5)   #true and true = true\n",
    "print(1>5 and 1<5)   #false and true = false"
   ]
  },
  {
   "cell_type": "markdown",
   "id": "aa43c0be",
   "metadata": {},
   "source": [
    "# Or"
   ]
  },
  {
   "cell_type": "code",
   "execution_count": 8,
   "id": "de9b0554",
   "metadata": {},
   "outputs": [
    {
     "name": "stdout",
     "output_type": "stream",
     "text": [
      "True\n",
      "True\n"
     ]
    }
   ],
   "source": [
    "print(1<5 or 2<5)   #true or true = true\n",
    "print(1>5 or 1<5)   #false or true = true"
   ]
  },
  {
   "cell_type": "markdown",
   "id": "1e252137",
   "metadata": {},
   "source": [
    "# Not"
   ]
  },
  {
   "cell_type": "code",
   "execution_count": 10,
   "id": "0ff8c714",
   "metadata": {},
   "outputs": [
    {
     "name": "stdout",
     "output_type": "stream",
     "text": [
      "False\n",
      "True\n"
     ]
    }
   ],
   "source": [
    "# it provides opposite result\n",
    "print(not 1<5)    # not true = false\n",
    "print(not 1>5)    #not  flase = true"
   ]
  },
  {
   "cell_type": "markdown",
   "id": "c3685edb",
   "metadata": {},
   "source": [
    "# Relational oprators"
   ]
  },
  {
   "cell_type": "code",
   "execution_count": 11,
   "id": "36f534ef",
   "metadata": {},
   "outputs": [
    {
     "name": "stdout",
     "output_type": "stream",
     "text": [
      "False\n",
      "True\n"
     ]
    }
   ],
   "source": [
    "# == equals to\n",
    "print(1==2)     # condition false\n",
    "print(1==1)     # condition true"
   ]
  },
  {
   "cell_type": "code",
   "execution_count": 12,
   "id": "183a877f",
   "metadata": {},
   "outputs": [
    {
     "name": "stdout",
     "output_type": "stream",
     "text": [
      "True\n",
      "False\n"
     ]
    }
   ],
   "source": [
    "# != not equals to\n",
    "print(1!=2)      # condition true\n",
    "print(1!=1)      # condition false"
   ]
  },
  {
   "cell_type": "code",
   "execution_count": 13,
   "id": "8bbdee34",
   "metadata": {},
   "outputs": [
    {
     "name": "stdout",
     "output_type": "stream",
     "text": [
      "True\n",
      "False\n"
     ]
    }
   ],
   "source": [
    "# < less than\n",
    "print(1<2)      #condition true\n",
    "print(1<1)      #condition false"
   ]
  },
  {
   "cell_type": "code",
   "execution_count": 14,
   "id": "85fc9d80",
   "metadata": {},
   "outputs": [
    {
     "name": "stdout",
     "output_type": "stream",
     "text": [
      "False\n",
      "False\n"
     ]
    }
   ],
   "source": [
    "# > greater than\n",
    "print(1>2)      #condition false\n",
    "print(1>1)      #condition false"
   ]
  },
  {
   "cell_type": "code",
   "execution_count": 15,
   "id": "293ebbe6",
   "metadata": {},
   "outputs": [
    {
     "name": "stdout",
     "output_type": "stream",
     "text": [
      "True\n",
      "True\n"
     ]
    }
   ],
   "source": [
    "# <= less than equals to\n",
    "print(1<=2)    #condition true\n",
    "print(1<=1)    #condition true"
   ]
  },
  {
   "cell_type": "code",
   "execution_count": 16,
   "id": "cedeca1a",
   "metadata": {},
   "outputs": [
    {
     "name": "stdout",
     "output_type": "stream",
     "text": [
      "False\n",
      "True\n"
     ]
    }
   ],
   "source": [
    "# >= greater than equals to\n",
    "print(1>=2)     #condition false\n",
    "print(1>=1)     #condition true"
   ]
  },
  {
   "cell_type": "markdown",
   "id": "6dda32e5",
   "metadata": {},
   "source": [
    "# Square root"
   ]
  },
  {
   "cell_type": "code",
   "execution_count": 17,
   "id": "e74c2986",
   "metadata": {
    "scrolled": true
   },
   "outputs": [
    {
     "name": "stdout",
     "output_type": "stream",
     "text": [
      "2.0\n"
     ]
    }
   ],
   "source": [
    "#The square root of the square of a \n",
    "#positive number gives the original number\n",
    "import math\n",
    "print(math.sqrt(4))"
   ]
  },
  {
   "cell_type": "code",
   "execution_count": 18,
   "id": "c9e1f149",
   "metadata": {},
   "outputs": [
    {
     "name": "stdout",
     "output_type": "stream",
     "text": [
      "5.0\n"
     ]
    }
   ],
   "source": [
    "#pythagoras theorm\n",
    "# c*c = a*a + b*b\n",
    "import math\n",
    "a = 3\n",
    "b = 4\n",
    "print(math.sqrt(a*a + b*b))"
   ]
  },
  {
   "cell_type": "code",
   "execution_count": 19,
   "id": "ab9386f4",
   "metadata": {},
   "outputs": [
    {
     "name": "stdout",
     "output_type": "stream",
     "text": [
      "7.38905609893065\n"
     ]
    }
   ],
   "source": [
    "import math\n",
    "print(math.exp(2))"
   ]
  },
  {
   "cell_type": "code",
   "execution_count": 20,
   "id": "b5e1907f",
   "metadata": {},
   "outputs": [
    {
     "name": "stdout",
     "output_type": "stream",
     "text": [
      "2.718281828459045\n"
     ]
    }
   ],
   "source": [
    "import math\n",
    "print(math.exp(1))"
   ]
  },
  {
   "cell_type": "code",
   "execution_count": 21,
   "id": "117a7b98",
   "metadata": {},
   "outputs": [
    {
     "name": "stdout",
     "output_type": "stream",
     "text": [
      "4.605170185988092\n"
     ]
    }
   ],
   "source": [
    "import math\n",
    "print(math.log(100))"
   ]
  },
  {
   "cell_type": "code",
   "execution_count": 22,
   "id": "37625527",
   "metadata": {},
   "outputs": [
    {
     "name": "stdout",
     "output_type": "stream",
     "text": [
      "2.302585092994046\n"
     ]
    }
   ],
   "source": [
    "import math\n",
    "print(math.log(10))"
   ]
  },
  {
   "cell_type": "code",
   "execution_count": 24,
   "id": "913c75aa",
   "metadata": {},
   "outputs": [
    {
     "name": "stdout",
     "output_type": "stream",
     "text": [
      "2.0\n"
     ]
    }
   ],
   "source": [
    "import math\n",
    "print(math.log10(100))"
   ]
  },
  {
   "cell_type": "markdown",
   "id": "f6428534",
   "metadata": {},
   "source": [
    "# Regular expression"
   ]
  },
  {
   "cell_type": "code",
   "execution_count": 2,
   "id": "30621151",
   "metadata": {},
   "outputs": [
    {
     "name": "stdout",
     "output_type": "stream",
     "text": [
      "Found: Steven Paul Jobs was an American business magnate, industrial designer, investor, and media proprietor\n"
     ]
    }
   ],
   "source": [
    "import re\n",
    "s = 'Steven Paul Jobs was an American business magnate, industrial designer, investor, and media proprietor'\n",
    "p = re.search('.*Paul.*',s)\n",
    "if p:\n",
    "    print('Found:',p.group())\n",
    "else:\n",
    "    print('Not Found...')"
   ]
  },
  {
   "cell_type": "code",
   "execution_count": 3,
   "id": "eba6f229",
   "metadata": {},
   "outputs": [
    {
     "name": "stdout",
     "output_type": "stream",
     "text": [
      "Found: Steven Paul Jobs was an American business magnate, industrial designer, investor, and media proprietor\n",
      "Group1: Steven Paul Jobs was an American business magnate, industrial designer, investor, \n",
      "Group2:  media proprietor\n"
     ]
    }
   ],
   "source": [
    "#we can create group using regular expression\n",
    "import re\n",
    "s = 'Steven Paul Jobs was an American business magnate, industrial designer, investor, and media proprietor'\n",
    "p = re.search('(.*)and(.*)',s)\n",
    "if p:\n",
    "    print('Found:',p.group())\n",
    "    print('Group1:',p.group(1))\n",
    "    print('Group2:',p.group(2))\n",
    "else:\n",
    "    print('Not Found...')"
   ]
  },
  {
   "cell_type": "code",
   "execution_count": 14,
   "id": "822862e4",
   "metadata": {},
   "outputs": [
    {
     "name": "stdout",
     "output_type": "stream",
     "text": [
      "Found: today is sunday and tommorow is monday\n",
      "Group1: today is sunday \n",
      "Group1: Today is sunday \n",
      "Group2: tommorow is monday\n",
      "Group2: Tommorow is monday\n"
     ]
    }
   ],
   "source": [
    "#we can create group using regular expression\n",
    "import re\n",
    "s = 'today is sunday and tommorow is monday'\n",
    "p = re.search('(.*)and (.*)',s)\n",
    "if p:\n",
    "    print('Found:',p.group())\n",
    "    print('Group1:',p.group(1))\n",
    "    print('Group1:',p.group(1).capitalize())\n",
    "    print('Group2:',p.group(2))\n",
    "    print('Group2:',p.group(2).capitalize())\n",
    "else:\n",
    "    print('Not Found...')"
   ]
  },
  {
   "cell_type": "code",
   "execution_count": 6,
   "id": "b9d100c5",
   "metadata": {},
   "outputs": [
    {
     "name": "stdout",
     "output_type": "stream",
     "text": [
      "Match: today is sunday and tommorow is monday\n"
     ]
    }
   ],
   "source": [
    "#match function \n",
    "#it match only with first word of your string\n",
    "import re\n",
    "s = 'today is sunday and tommorow is monday'\n",
    "p = re.match('today.*',s)\n",
    "if p:\n",
    "    print('Match:',p.group())\n",
    "else:\n",
    "    print('No Match...')"
   ]
  },
  {
   "cell_type": "code",
   "execution_count": 17,
   "id": "41d77a3a",
   "metadata": {},
   "outputs": [
    {
     "name": "stdout",
     "output_type": "stream",
     "text": [
      "Match: today is sunday and tommorow is monday\n",
      "Match: and\n"
     ]
    }
   ],
   "source": [
    "#match function\n",
    "import re\n",
    "s = 'today is sunday and tommorow is monday'\n",
    "p = re.match('today.*(and).*',s)\n",
    "if p:\n",
    "    print('Match:',p.group())\n",
    "    print('Match:',p.group(1))\n",
    "else:\n",
    "    print('No Match...')"
   ]
  },
  {
   "cell_type": "markdown",
   "id": "f30a3333",
   "metadata": {},
   "source": [
    "# Substituting digits and non-digits"
   ]
  },
  {
   "cell_type": "code",
   "execution_count": 18,
   "id": "1f7e9661",
   "metadata": {},
   "outputs": [
    {
     "name": "stdout",
     "output_type": "stream",
     "text": [
      "this is \n"
     ]
    }
   ],
   "source": [
    "#\\d use to remove numbers\n",
    "import re\n",
    "s = 'this is 456446261'\n",
    "p = re.sub('\\d', '',s)\n",
    "print(p)"
   ]
  },
  {
   "cell_type": "code",
   "execution_count": 19,
   "id": "ad60ff99",
   "metadata": {},
   "outputs": [
    {
     "name": "stdout",
     "output_type": "stream",
     "text": [
      "456446261\n"
     ]
    }
   ],
   "source": [
    "#\\D use to remove string\n",
    "import re\n",
    "s = 'this is 456446261'\n",
    "p = re.sub('\\D', '',s)\n",
    "print(p)"
   ]
  },
  {
   "cell_type": "code",
   "execution_count": 7,
   "id": "9a2638a3",
   "metadata": {},
   "outputs": [
    {
     "name": "stdout",
     "output_type": "stream",
     "text": [
      "Match found: abc@d.com\n"
     ]
    }
   ],
   "source": [
    "import re\n",
    "s = 'abc@d.com, a@bd.com, sam1@gmail.com'\n",
    "#\\w = word character\n",
    "#\\ = as esacpe charatcter\n",
    "#. = any one character\n",
    "#\\. = dot character\n",
    "# + = one or more character\n",
    "p = re.search('\\w+@\\w\\.com',s)\n",
    "if p:\n",
    "    print('Match found:',p.group())\n",
    "else:\n",
    "    print('No Match....')"
   ]
  },
  {
   "cell_type": "code",
   "execution_count": 10,
   "id": "4a7e13a9",
   "metadata": {},
   "outputs": [
    {
     "name": "stdout",
     "output_type": "stream",
     "text": [
      "this is 116541616\n"
     ]
    }
   ],
   "source": [
    "# Substituting and Replacing\n",
    "import re\n",
    "s = 'this is 116541616'\n",
    "p = re.sub('\\w+' ,'$',s)\n",
    "print(p)"
   ]
  },
  {
   "cell_type": "markdown",
   "id": "064e9a10",
   "metadata": {},
   "source": [
    "# Tuples\n",
    "## Tles are used to store multiple items in a single variable.\n",
    "## A tuple is a collection which is ordered and unchangeable."
   ]
  },
  {
   "cell_type": "code",
   "execution_count": 1,
   "id": "e38142db",
   "metadata": {},
   "outputs": [
    {
     "name": "stdout",
     "output_type": "stream",
     "text": [
      "4\n"
     ]
    }
   ],
   "source": [
    "#its combination of numbers and string\n",
    "a = (1,2,'apple','orange') # lenth\n",
    "print(len(a))"
   ]
  },
  {
   "cell_type": "code",
   "execution_count": 2,
   "id": "6566e9e2",
   "metadata": {},
   "outputs": [
    {
     "name": "stdout",
     "output_type": "stream",
     "text": [
      "1 apple\n"
     ]
    }
   ],
   "source": [
    "a = (1,2,'apple','orange')#accesing elements\n",
    "print(a[0],a[2])"
   ]
  },
  {
   "cell_type": "code",
   "execution_count": 3,
   "id": "b8ea090b",
   "metadata": {},
   "outputs": [
    {
     "name": "stdout",
     "output_type": "stream",
     "text": [
      "(1, 2, 'apple')\n"
     ]
    }
   ],
   "source": [
    "a = (1,2,'apple','orange')# accesing multiple elements\n",
    "print(a[0:3])"
   ]
  },
  {
   "cell_type": "code",
   "execution_count": 4,
   "id": "76118134",
   "metadata": {},
   "outputs": [
    {
     "name": "stdout",
     "output_type": "stream",
     "text": [
      "Maximum No: 5\n",
      "Minimum No: 1\n"
     ]
    }
   ],
   "source": [
    "a = (1,2,3,4,5) # min max \n",
    "print('Maximum No:',max(a))\n",
    "print(\"Minimum No:\",min(a))"
   ]
  },
  {
   "cell_type": "code",
   "execution_count": 8,
   "id": "38fb9197",
   "metadata": {},
   "outputs": [
    {
     "name": "stdout",
     "output_type": "stream",
     "text": [
      "4\n"
     ]
    }
   ],
   "source": [
    "a = (1,2,3,4,5) # indexing\n",
    "print(a.index(5))"
   ]
  },
  {
   "cell_type": "code",
   "execution_count": 10,
   "id": "d1615d5c",
   "metadata": {},
   "outputs": [
    {
     "name": "stdout",
     "output_type": "stream",
     "text": [
      "3\n"
     ]
    }
   ],
   "source": [
    "a = (1,2,3,4,5,5,6,7,88,99,33,44,5,6,4,2,3,4,5,6,5,4) #counting\n",
    "print(a.count(6))"
   ]
  },
  {
   "cell_type": "code",
   "execution_count": 11,
   "id": "69203435",
   "metadata": {},
   "outputs": [
    {
     "name": "stdout",
     "output_type": "stream",
     "text": [
      "list: [1, 2, 3, 4, 5]\n",
      "tuple: (1, 2, 3, 4, 5)\n"
     ]
    }
   ],
   "source": [
    "# Relation between tuple and list\n",
    "#converting list into tuple\n",
    "p = [1,2,3,4,5]\n",
    "print('list:',p)\n",
    "q = tuple(p)\n",
    "print('tuple:',q)"
   ]
  },
  {
   "cell_type": "code",
   "execution_count": 12,
   "id": "0101367a",
   "metadata": {},
   "outputs": [
    {
     "name": "stdout",
     "output_type": "stream",
     "text": [
      "tuple (1, 2, 3, 4, 5)\n",
      "list [1, 2, 3, 4, 5]\n"
     ]
    }
   ],
   "source": [
    "# converting tuple into list\n",
    "p = (1,2,3,4,5)\n",
    "print('tuple',p)\n",
    "q = list(p)\n",
    "print('list',q)"
   ]
  },
  {
   "cell_type": "code",
   "execution_count": 20,
   "id": "a236ec97",
   "metadata": {},
   "outputs": [
    {
     "name": "stdout",
     "output_type": "stream",
     "text": [
      "Dictinary:- {'a': 1, 'b': 2, 'c': 3}\n",
      "tuple:- ('a', 'b', 'c')\n"
     ]
    }
   ],
   "source": [
    "# convert dict into tuple\n",
    "a = {'a':1,'b':2,'c':3}\n",
    "print('Dictinary:-',a)\n",
    "b = tuple(a)\n",
    "print('tuple:-',b)"
   ]
  },
  {
   "cell_type": "markdown",
   "id": "0f6e0c03",
   "metadata": {},
   "source": [
    "# Reverse opration on string"
   ]
  },
  {
   "cell_type": "code",
   "execution_count": 24,
   "id": "846c23df",
   "metadata": {},
   "outputs": [
    {
     "name": "stdout",
     "output_type": "stream",
     "text": [
      "['Data', 'Science', 'is', 'trending', 'these', 'days']\n"
     ]
    }
   ],
   "source": [
    "a = 'Data Science is trending these days' #Spliting \n",
    "print(a.split())"
   ]
  },
  {
   "cell_type": "code",
   "execution_count": 25,
   "id": "e49aee7b",
   "metadata": {},
   "outputs": [
    {
     "name": "stdout",
     "output_type": "stream",
     "text": [
      "['days', 'these', 'trending', 'is', 'Science', 'Data']\n"
     ]
    }
   ],
   "source": [
    "a = 'Data Science is trending these days' #Reverse\n",
    "print(a.split()[::-1])"
   ]
  },
  {
   "cell_type": "code",
   "execution_count": 26,
   "id": "bce2d8ea",
   "metadata": {},
   "outputs": [
    {
     "name": "stdout",
     "output_type": "stream",
     "text": [
      "days these trending is Science Data\n"
     ]
    }
   ],
   "source": [
    "a = 'Data Science is trending these days' #combinig by join\n",
    "print(' '.join(a.split()[::-1]))"
   ]
  },
  {
   "cell_type": "markdown",
   "id": "cf10abdd",
   "metadata": {},
   "source": [
    "# Passing parameters to function by name"
   ]
  },
  {
   "cell_type": "code",
   "execution_count": 1,
   "id": "acb55c1b",
   "metadata": {},
   "outputs": [
    {
     "name": "stdout",
     "output_type": "stream",
     "text": [
      "abc 101\n"
     ]
    }
   ],
   "source": [
    "def record(name,id_no):\n",
    "    print(name,id_no)\n",
    "record(name='abc',id_no=101)    \n",
    "    "
   ]
  },
  {
   "cell_type": "markdown",
   "id": "bc17e76d",
   "metadata": {},
   "source": [
    "# Set oprations"
   ]
  },
  {
   "cell_type": "code",
   "execution_count": 2,
   "id": "34fe1b19",
   "metadata": {},
   "outputs": [
    {
     "name": "stdout",
     "output_type": "stream",
     "text": [
      "{1, 2, 3, 4, 5, 6, 7, 67}\n"
     ]
    }
   ],
   "source": [
    "a = {1,2,3,4,5,6,7,7,4,5,67}   # unique and oreder numbers print by set\n",
    "print(a)"
   ]
  },
  {
   "cell_type": "code",
   "execution_count": 5,
   "id": "7bbe25aa",
   "metadata": {},
   "outputs": [
    {
     "name": "stdout",
     "output_type": "stream",
     "text": [
      "{'ab', 'ef', 'cd'}\n"
     ]
    }
   ],
   "source": [
    "s1 = {'ab','cd','ef','cd'}   #Builtin function\n",
    "s1 = set(s1)\n",
    "print(s1)"
   ]
  },
  {
   "cell_type": "markdown",
   "id": "09a9d0c6",
   "metadata": {},
   "source": [
    "# Set Relations"
   ]
  },
  {
   "cell_type": "code",
   "execution_count": 6,
   "id": "c24cb81a",
   "metadata": {},
   "outputs": [
    {
     "name": "stdout",
     "output_type": "stream",
     "text": [
      "True\n",
      "False\n"
     ]
    }
   ],
   "source": [
    "s1 = {1,2,3,4,5,6,7}   #superset\n",
    "s2 = {2,3}  #subset\n",
    "\n",
    "print(s1 > s2)\n",
    "print(s2 > s1)"
   ]
  },
  {
   "cell_type": "code",
   "execution_count": 7,
   "id": "32c6b3e0",
   "metadata": {},
   "outputs": [
    {
     "name": "stdout",
     "output_type": "stream",
     "text": [
      "False\n",
      "True\n"
     ]
    }
   ],
   "source": [
    "s1 = {1,2,3,4,5,6,7}   #superset\n",
    "s2 = {2,3}  #subset\n",
    "\n",
    "print(s1.issubset(s2)) #issubset\n",
    "print(s2.issubset(s1))\n"
   ]
  },
  {
   "cell_type": "code",
   "execution_count": 8,
   "id": "5fd9d9c4",
   "metadata": {},
   "outputs": [
    {
     "name": "stdout",
     "output_type": "stream",
     "text": [
      "True\n",
      "False\n"
     ]
    }
   ],
   "source": [
    "s1 = {1,2,3,4,5,6,7}   #superset\n",
    "s2 = {2,3}  #subset\n",
    "\n",
    "print(s1.issuperset(s2)) #issuperset\n",
    "print(s2.issuperset(s1))\n"
   ]
  },
  {
   "cell_type": "code",
   "execution_count": 11,
   "id": "913f0956",
   "metadata": {},
   "outputs": [
    {
     "name": "stdout",
     "output_type": "stream",
     "text": [
      "{1, 2, 3, 4, 5, 6, 7, 8}\n",
      "{1, 2, 3, 4, 5, 6, 7, 8}\n"
     ]
    }
   ],
   "source": [
    "# Union\n",
    "s1 = {1,2,3,4,5,6,7,8,7,4,3}   #repeated values remove\n",
    "s2 = {2,3,4,5}\n",
    "\n",
    "print(s1.union(s2))\n",
    "print(s2.union(s1))"
   ]
  },
  {
   "cell_type": "code",
   "execution_count": 12,
   "id": "2e076d7a",
   "metadata": {},
   "outputs": [
    {
     "name": "stdout",
     "output_type": "stream",
     "text": [
      "{2, 3, 4, 5}\n",
      "{2, 3, 4, 5}\n"
     ]
    }
   ],
   "source": [
    "# Intersection\n",
    "s1 = {1,2,3,4,5,6,7,8,7,4,3}    #common values will be printed\n",
    "s2 = {2,3,4,5}\n",
    "\n",
    "print(s1.intersection(s2))\n",
    "print(s2.intersection(s1))"
   ]
  },
  {
   "cell_type": "markdown",
   "id": "fb4f05ca",
   "metadata": {},
   "source": [
    "# Set Difference"
   ]
  },
  {
   "cell_type": "code",
   "execution_count": 5,
   "id": "96a95d28",
   "metadata": {},
   "outputs": [
    {
     "name": "stdout",
     "output_type": "stream",
     "text": [
      "{1, 10, 11, 6} {1, 10, 11, 6}\n",
      "{8, 7} {8, 7}\n"
     ]
    }
   ],
   "source": [
    "s1 = {1,2,3,4,5,6,10,11}   # remove common numbers\n",
    "s2 = {2,3,4,5,7,8}\n",
    "\n",
    "s3 = s1 - s2\n",
    "\n",
    "s4 = s1.difference(s2)\n",
    "print(s3,s4)\n",
    "\n",
    "s5 = s2 - s1\n",
    "s6 = s2.difference(s1)\n",
    "print(s5,s6)"
   ]
  },
  {
   "cell_type": "code",
   "execution_count": 1,
   "id": "8241dc6a",
   "metadata": {},
   "outputs": [
    {
     "name": "stdout",
     "output_type": "stream",
     "text": [
      "{1, 2, 3, 4, 5, 6}\n"
     ]
    }
   ],
   "source": [
    "# Genrating set using other data structur\n",
    "s1 = [1,2,3,4,5,6]\n",
    "s2 = set(s1)\n",
    "print(s2)"
   ]
  },
  {
   "cell_type": "code",
   "execution_count": 2,
   "id": "639a539e",
   "metadata": {},
   "outputs": [
    {
     "name": "stdout",
     "output_type": "stream",
     "text": [
      "{'efg', 'abc'}\n"
     ]
    }
   ],
   "source": [
    "s1 = {'abc':101,'efg':102}    #Dictionary to set\n",
    "s2 = set(s1)\n",
    "print(s2)"
   ]
  },
  {
   "cell_type": "code",
   "execution_count": 3,
   "id": "757b1482",
   "metadata": {},
   "outputs": [
    {
     "name": "stdout",
     "output_type": "stream",
     "text": [
      "0 1\n",
      "1 3\n",
      "2 5\n",
      "3 7\n"
     ]
    }
   ],
   "source": [
    "#Enumarate function\n",
    "a = [1,3,5,7]\n",
    "for i,j in enumerate(a):   \n",
    "    print(i,j)"
   ]
  },
  {
   "cell_type": "code",
   "execution_count": 4,
   "id": "237fbb45",
   "metadata": {},
   "outputs": [
    {
     "name": "stdout",
     "output_type": "stream",
     "text": [
      "[1, 2, 3, 4, 5, 6, 7, 8, 9, 10]\n"
     ]
    }
   ],
   "source": [
    "#List Comphrehension\n",
    "A = [x for x in range(1, 11)]       #Automatically list will genrate\n",
    "print(A)\n"
   ]
  },
  {
   "cell_type": "code",
   "execution_count": 1,
   "id": "a5627816",
   "metadata": {},
   "outputs": [
    {
     "name": "stdout",
     "output_type": "stream",
     "text": [
      "[1, 3, 5, 7, 9]\n"
     ]
    }
   ],
   "source": [
    "#printing list of even numbers using list comprehension\n",
    "B = [x for x in range(1, 11) if x % 2 != 0]\n",
    "print(B)"
   ]
  },
  {
   "cell_type": "code",
   "execution_count": 7,
   "id": "7f61bce4",
   "metadata": {},
   "outputs": [
    {
     "name": "stdout",
     "output_type": "stream",
     "text": [
      "[4, 16, 36, 64, 100]\n"
     ]
    }
   ],
   "source": [
    "#printing list of squares of even numbers using list comprehension\n",
    "C = [x*x for x in range(1, 11) if x % 2 == 0]\n",
    "print(C)"
   ]
  },
  {
   "cell_type": "code",
   "execution_count": 8,
   "id": "a344777b",
   "metadata": {},
   "outputs": [
    {
     "name": "stdout",
     "output_type": "stream",
     "text": [
      "{1, 2, 3, 4, 5}\n"
     ]
    }
   ],
   "source": [
    "#Set Comprehension\n",
    "A = {x for x in range(1,6)}\n",
    "print(A)"
   ]
  },
  {
   "cell_type": "code",
   "execution_count": 9,
   "id": "7cec9c2b",
   "metadata": {},
   "outputs": [
    {
     "name": "stdout",
     "output_type": "stream",
     "text": [
      "{2, 4}\n"
     ]
    }
   ],
   "source": [
    "#printing set of even no.\n",
    "   #expression , range,     conditional\n",
    "A = {x for x in range(1,6) if x % 2 == 0}\n",
    "print(A)"
   ]
  },
  {
   "cell_type": "code",
   "execution_count": 14,
   "id": "c665cada",
   "metadata": {},
   "outputs": [
    {
     "name": "stdout",
     "output_type": "stream",
     "text": [
      "{1: 1, 2: 2, 3: 3, 4: 4, 5: 5}\n"
     ]
    }
   ],
   "source": [
    "#Dictionary Comphrehension\n",
    "A = {x : x for x in range(1, 6)}\n",
    "print(A)"
   ]
  },
  {
   "cell_type": "code",
   "execution_count": 15,
   "id": "be74fe2b",
   "metadata": {},
   "outputs": [
    {
     "name": "stdout",
     "output_type": "stream",
     "text": [
      "{1: 1, 4: 2, 9: 3, 16: 4, 25: 5}\n"
     ]
    }
   ],
   "source": [
    "#for keys\n",
    "A = {x*x : x for x in range(1, 6)}\n",
    "print(A)"
   ]
  },
  {
   "cell_type": "code",
   "execution_count": 16,
   "id": "fcbc32a3",
   "metadata": {},
   "outputs": [
    {
     "name": "stdout",
     "output_type": "stream",
     "text": [
      "{1: 1, 2: 4, 3: 9, 4: 16, 5: 25}\n"
     ]
    }
   ],
   "source": [
    "#for values\n",
    "A = {x : x*x for x in range(1, 6)}\n",
    "print(A)"
   ]
  },
  {
   "cell_type": "code",
   "execution_count": 18,
   "id": "6940551c",
   "metadata": {},
   "outputs": [
    {
     "name": "stdout",
     "output_type": "stream",
     "text": [
      "['aa', 'ab', 'ba', 'bb']\n"
     ]
    }
   ],
   "source": [
    "#Permutation of list comphrehension\n",
    "A = ['a','b']\n",
    "B = [(x+y) for x in A for y in A]\n",
    "print(B)\n"
   ]
  },
  {
   "cell_type": "code",
   "execution_count": 4,
   "id": "14dcd978",
   "metadata": {},
   "outputs": [
    {
     "name": "stdout",
     "output_type": "stream",
     "text": [
      "[('a', 1), ('a', 2), ('a', 3), ('b', 1), ('b', 2), ('b', 3)]\n"
     ]
    }
   ],
   "source": [
    "#Permutation of list comphrehension\n",
    "A = ['a','b']\n",
    "C = [1,2,3]\n",
    "B = [(x,y) for x in A for y in C]\n",
    "print(B)\n"
   ]
  },
  {
   "cell_type": "code",
   "execution_count": 2,
   "id": "c15ca376",
   "metadata": {},
   "outputs": [
    {
     "name": "stdout",
     "output_type": "stream",
     "text": [
      "2\n"
     ]
    }
   ],
   "source": [
    "#Lambda function\n",
    "f = (lambda x : x + 1)\n",
    "print(f(1))"
   ]
  },
  {
   "cell_type": "code",
   "execution_count": 3,
   "id": "73f99c82",
   "metadata": {},
   "outputs": [
    {
     "name": "stdout",
     "output_type": "stream",
     "text": [
      "6\n"
     ]
    }
   ],
   "source": [
    "#multiple parameteres\n",
    "f = (lambda x,y,z: x*y*z)\n",
    "print(f(1,2,3))"
   ]
  },
  {
   "cell_type": "code",
   "execution_count": 4,
   "id": "413f1957",
   "metadata": {},
   "outputs": [
    {
     "name": "stdout",
     "output_type": "stream",
     "text": [
      "False\n"
     ]
    }
   ],
   "source": [
    "f = (lambda x,y : x > y)     #conditinal statements\n",
    "print(f(2,3))"
   ]
  },
  {
   "cell_type": "markdown",
   "id": "15c92d1c",
   "metadata": {},
   "source": [
    "# Map"
   ]
  },
  {
   "cell_type": "code",
   "execution_count": 7,
   "id": "dbe18b39",
   "metadata": {},
   "outputs": [
    {
     "name": "stdout",
     "output_type": "stream",
     "text": [
      "[1, 4, 9, 16]\n",
      "[1, 4, 9, 16]\n"
     ]
    }
   ],
   "source": [
    "#it apply function on the sequence of list elements\n",
    "\n",
    "def sqr(x):\n",
    "    return x*x\n",
    "\n",
    "l = [1,2,3,4]\n",
    "\n",
    "print(list(map(sqr,l)))# sqr = function      # l = sequence\n",
    "\n",
    "print(list(map(lambda x : x*x,l)))\n"
   ]
  },
  {
   "cell_type": "markdown",
   "id": "ca70819f",
   "metadata": {},
   "source": [
    "# Filter"
   ]
  },
  {
   "cell_type": "markdown",
   "id": "4f5e27b0",
   "metadata": {},
   "source": [
    " # The filter() method filters the given sequence with the help of a function that tests each element in the sequence to be true or not."
   ]
  },
  {
   "cell_type": "code",
   "execution_count": 11,
   "id": "10cbad43",
   "metadata": {},
   "outputs": [
    {
     "name": "stdout",
     "output_type": "stream",
     "text": [
      "[1, 3, 5, 7]\n"
     ]
    }
   ],
   "source": [
    "#printing odd no with filter\n",
    "l = [1,2,3,4,5,7,8]\n",
    "p = filter(lambda x: x%2 != 0,l)\n",
    "print(list(p))"
   ]
  },
  {
   "cell_type": "code",
   "execution_count": 12,
   "id": "550ea17a",
   "metadata": {},
   "outputs": [
    {
     "name": "stdout",
     "output_type": "stream",
     "text": [
      "[2, 4, 8]\n"
     ]
    }
   ],
   "source": [
    "#printing even no with filter\n",
    "l = [1,2,3,4,5,7,8]\n",
    "p = filter(lambda x: x%2 == 0,l)\n",
    "print(list(p))"
   ]
  },
  {
   "cell_type": "code",
   "execution_count": 14,
   "id": "e23c1792",
   "metadata": {},
   "outputs": [
    {
     "name": "stdout",
     "output_type": "stream",
     "text": [
      "[1, 3, 5, 7]\n"
     ]
    }
   ],
   "source": [
    "#another example\n",
    "\n",
    "def is_odd(x):                #Without lambda function\n",
    "    return x%2 != 0\n",
    "\n",
    "l = [1,2,3,4,5,6,7,8]\n",
    "\n",
    "print(list(filter(is_odd,l)))"
   ]
  },
  {
   "cell_type": "markdown",
   "id": "f784efe5",
   "metadata": {},
   "source": [
    "# Reduce"
   ]
  },
  {
   "cell_type": "code",
   "execution_count": 16,
   "id": "63511cc1",
   "metadata": {},
   "outputs": [
    {
     "name": "stdout",
     "output_type": "stream",
     "text": [
      "24\n"
     ]
    }
   ],
   "source": [
    "#Reduction\n",
    "#reduce(binary-function,sequence)\n",
    "\n",
    "from functools import reduce\n",
    "p = (reduce(lambda x,y : x*y,[1,2,3,4]))\n",
    "print(p)"
   ]
  },
  {
   "cell_type": "markdown",
   "id": "e00e9675",
   "metadata": {},
   "source": [
    "# global keyword\n",
    "\n",
    "# Global keyword is a keyword that allows a user to modify a variable outside of the current scope. It is used to create global variables from a non-global scope i.e inside a function. Global keyword is used inside a function only when we want to do assignments or when we want to change a variable. Global is not needed for printing and accessing\n"
   ]
  },
  {
   "cell_type": "code",
   "execution_count": 1,
   "id": "1da3f5ff",
   "metadata": {},
   "outputs": [
    {
     "name": "stdout",
     "output_type": "stream",
     "text": [
      "10\n",
      "11\n",
      "10\n"
     ]
    }
   ],
   "source": [
    "#global is a keyword\n",
    "i = 10\n",
    "def p():\n",
    "    print(i)\n",
    "    \n",
    "def incre():         #without Global keyword\n",
    "    i = 11\n",
    "    print(i)\n",
    "    \n",
    "p()   \n",
    "incre()\n",
    "p()"
   ]
  },
  {
   "cell_type": "code",
   "execution_count": 2,
   "id": "b633cc9b",
   "metadata": {},
   "outputs": [
    {
     "name": "stdout",
     "output_type": "stream",
     "text": [
      "10\n",
      "11\n",
      "11\n"
     ]
    }
   ],
   "source": [
    "#global is a keyword\n",
    "i = 10\n",
    "def p():\n",
    "    print(i)\n",
    "    \n",
    "def incre():  #with Global keyword\n",
    "    global i\n",
    "    i = 11\n",
    "    print(i)\n",
    "    \n",
    "p()   \n",
    "incre()\n",
    "p()"
   ]
  },
  {
   "cell_type": "code",
   "execution_count": 1,
   "id": "005d88aa",
   "metadata": {},
   "outputs": [
    {
     "name": "stdout",
     "output_type": "stream",
     "text": [
      "25\n"
     ]
    }
   ],
   "source": [
    "#another example\n",
    "i = 10\n",
    "def func():\n",
    "    global i\n",
    "    i = i + 15\n",
    "    print(i)\n",
    "func()    "
   ]
  },
  {
   "cell_type": "markdown",
   "id": "46fba2bd",
   "metadata": {},
   "source": [
    "# None keyword"
   ]
  },
  {
   "cell_type": "code",
   "execution_count": 6,
   "id": "cf1870c1",
   "metadata": {},
   "outputs": [
    {
     "name": "stdout",
     "output_type": "stream",
     "text": [
      "No values assigned\n",
      "11\n"
     ]
    }
   ],
   "source": [
    "#None is a keyword         #it assign to variable      #it used to define null variable\n",
    "i = None\n",
    "def func(l):\n",
    "    if l is None:        #Checking if variable is none\n",
    "        return 'No values assigned'\n",
    "    l = l + 1\n",
    "    return l\n",
    "\n",
    "print(func(i))\n",
    "print(func(10))"
   ]
  },
  {
   "cell_type": "markdown",
   "id": "da2ab478",
   "metadata": {},
   "source": [
    "# Is keyword\n",
    "\n",
    "# This keyword is used to test object identity. The “is keyword” is used to test whether two variables belong to the same object. The test will return True if the two objects are the same else it will return False even if the two objects are 100% equal. Note: The == operator is used to test if two objects are the same"
   ]
  },
  {
   "cell_type": "code",
   "execution_count": 1,
   "id": "9691997b",
   "metadata": {},
   "outputs": [
    {
     "name": "stdout",
     "output_type": "stream",
     "text": [
      "True\n",
      "True\n"
     ]
    }
   ],
   "source": [
    "a = 'aa'\n",
    "b = 'aa'\n",
    "print(a is b)\n",
    "print(a == b)"
   ]
  },
  {
   "cell_type": "code",
   "execution_count": 9,
   "id": "df06a307",
   "metadata": {},
   "outputs": [
    {
     "name": "stdout",
     "output_type": "stream",
     "text": [
      "False\n",
      "True\n"
     ]
    }
   ],
   "source": [
    "a = [1,2,3,4]\n",
    "b = [1,2,3,4]\n",
    "print(a is b)\n",
    "print(a == b)"
   ]
  },
  {
   "cell_type": "markdown",
   "id": "f411624b",
   "metadata": {},
   "source": [
    "# Membership Oprator"
   ]
  },
  {
   "cell_type": "code",
   "execution_count": 11,
   "id": "da5b8a9e",
   "metadata": {},
   "outputs": [
    {
     "name": "stdout",
     "output_type": "stream",
     "text": [
      "True\n",
      "True\n"
     ]
    }
   ],
   "source": [
    "#In ,    #not in\n",
    "a = [1,2,3,4,5]\n",
    "print(4 in a)\n",
    "print(7 not in a)"
   ]
  },
  {
   "cell_type": "code",
   "execution_count": 12,
   "id": "3fcd2a45",
   "metadata": {},
   "outputs": [
    {
     "name": "stdout",
     "output_type": "stream",
     "text": [
      "True\n",
      "False\n"
     ]
    }
   ],
   "source": [
    "b = {0:1, 2:3, 4:5}     #Dictionary store key:value in associative manner\n",
    "print(2 in b)            # it only give result for keys.\n",
    "print(3 in b)"
   ]
  },
  {
   "cell_type": "markdown",
   "id": "f3592b3d",
   "metadata": {},
   "source": [
    "# Nested function"
   ]
  },
  {
   "cell_type": "code",
   "execution_count": 13,
   "id": "10e698f0",
   "metadata": {},
   "outputs": [
    {
     "name": "stdout",
     "output_type": "stream",
     "text": [
      "multiplication:- 100\n"
     ]
    }
   ],
   "source": [
    "def f1():\n",
    "    x = 10\n",
    "    def f2():\n",
    "        return x*x\n",
    "    print('multiplication:-',f2())\n",
    "f1()    "
   ]
  },
  {
   "cell_type": "markdown",
   "id": "a14117ba",
   "metadata": {},
   "source": [
    "# Non-local keyword"
   ]
  },
  {
   "cell_type": "code",
   "execution_count": 14,
   "id": "e4fe6a7e",
   "metadata": {},
   "outputs": [
    {
     "name": "stdout",
     "output_type": "stream",
     "text": [
      "x =  10\n"
     ]
    }
   ],
   "source": [
    "def a1():\n",
    "    x = 10\n",
    "    def a2():\n",
    "        x = 1         \n",
    "    a2()    \n",
    "    print('x = ',x)    \n",
    "\n",
    "a1()    "
   ]
  },
  {
   "cell_type": "code",
   "execution_count": 15,
   "id": "ddc2d656",
   "metadata": {},
   "outputs": [
    {
     "name": "stdout",
     "output_type": "stream",
     "text": [
      "x =  1\n"
     ]
    }
   ],
   "source": [
    "def a1():\n",
    "    x = 10\n",
    "    def a2():\n",
    "        nonlocal x\n",
    "        x = 1         \n",
    "    a2()    \n",
    "    print('x = ',x)    \n",
    "\n",
    "a1()    "
   ]
  },
  {
   "cell_type": "markdown",
   "id": "0d85e6b6",
   "metadata": {},
   "source": [
    "# Pass statement"
   ]
  },
  {
   "cell_type": "code",
   "execution_count": 17,
   "id": "f34014d9",
   "metadata": {},
   "outputs": [],
   "source": [
    "def a1():\n",
    "    pass\n",
    "    #........\n",
    "    a1()\n",
    "def a2():\n",
    "    #.......\n",
    "    a2()"
   ]
  },
  {
   "cell_type": "markdown",
   "id": "9e548e7b",
   "metadata": {},
   "source": [
    "# Raw input"
   ]
  },
  {
   "cell_type": "code",
   "execution_count": 1,
   "id": "8e9b1339",
   "metadata": {},
   "outputs": [
    {
     "name": "stdout",
     "output_type": "stream",
     "text": [
      "Enter Username :- nik\n",
      "Hello... nik  Enter your password and we good to go...!\n",
      "Enter password :- 123\n",
      "Alright...Lets do some coding...!\n"
     ]
    }
   ],
   "source": [
    "a = input('Enter Username :- ')   #python2 =  raw input          #python3 = input\n",
    "print('Hello...',a,' Enter your password and we good to go...!')\n",
    "b = input('Enter password :- ')\n",
    "print('Alright...Lets do some coding...!')"
   ]
  },
  {
   "cell_type": "markdown",
   "id": "3a5c5a39",
   "metadata": {},
   "source": [
    "# Defining class, constructor, class and instance variable"
   ]
  },
  {
   "cell_type": "markdown",
   "id": "9f433ebd",
   "metadata": {},
   "source": [
    "# Classes provide a means of bundling data and functionality together. Creating a new class creates a new type of object, allowing new instances of that type to be made. Each class instance can have attributes attached to it for maintaining its state."
   ]
  },
  {
   "cell_type": "code",
   "execution_count": 2,
   "id": "2cf62fd1",
   "metadata": {},
   "outputs": [
    {
     "name": "stdout",
     "output_type": "stream",
     "text": [
      "learner\n",
      "learner\n"
     ]
    }
   ],
   "source": [
    "class HelloWorld:\n",
    "    name = 'learner'      # class variable\n",
    "    \n",
    "hw = HelloWorld()\n",
    "\n",
    "print(HelloWorld.name)       #  calling with class name Helloworld\n",
    "print(hw.name)         # calling with object hw"
   ]
  },
  {
   "cell_type": "markdown",
   "id": "a72eac4f",
   "metadata": {},
   "source": [
    "# Constructors are generally used for instantiating an object.The task of constructors is to initialize(assign values) to the data members of the class when an object of class is created.In Python the __init__() method is called the constructor and is always called when an object is created.\n",
    "\n"
   ]
  },
  {
   "cell_type": "code",
   "execution_count": 3,
   "id": "2a83573d",
   "metadata": {},
   "outputs": [
    {
     "name": "stdout",
     "output_type": "stream",
     "text": [
      "10 learner\n",
      "20 learner\n"
     ]
    }
   ],
   "source": [
    "# default constructor example\n",
    "\n",
    "class HelloWorld:\n",
    "    name = 'learner'      # class variable\n",
    "    \n",
    "    def __init__(self,i):         # Defining constructor and instance variable\n",
    "        self.i = i\n",
    "        \n",
    "    def printer(self): \n",
    "        print(self.i,self.name)\n",
    "    \n",
    "        \n",
    "hw = HelloWorld(10)\n",
    "hw1 = HelloWorld(20)\n",
    "\n",
    "hw.printer()\n",
    "hw1.printer()"
   ]
  },
  {
   "cell_type": "code",
   "execution_count": 4,
   "id": "61c3b2eb",
   "metadata": {},
   "outputs": [
    {
     "name": "stdout",
     "output_type": "stream",
     "text": [
      "First number = 100\n",
      "Second number = 10\n",
      "Substraction of two numbers = 90\n"
     ]
    }
   ],
   "source": [
    "# parameterized constructor example\n",
    "class Substraction:\n",
    "    first = 0\n",
    "    second = 0\n",
    "    answer = 0\n",
    "      \n",
    "    def __init__(self, f, s):\n",
    "        self.first = f\n",
    "        self.second = s\n",
    "      \n",
    "    def display(self):\n",
    "        print(\"First number = \" + str(self.first))\n",
    "        print(\"Second number = \" + str(self.second))\n",
    "        print(\"Substraction of two numbers = \" + str(self.answer))\n",
    "  \n",
    "    def calculate(self):\n",
    "        self.answer = self.first - self.second\n",
    "  \n",
    "obj = Substraction(100, 10)\n",
    "  \n",
    "obj.calculate()\n",
    "  \n",
    "obj.display()"
   ]
  },
  {
   "cell_type": "markdown",
   "id": "24bde1d0",
   "metadata": {},
   "source": [
    "# Inheritance is the capability of one class to derive or inherit the properties from another class. "
   ]
  },
  {
   "cell_type": "code",
   "execution_count": 5,
   "id": "da111759",
   "metadata": {},
   "outputs": [
    {
     "name": "stdout",
     "output_type": "stream",
     "text": [
      "rohit False\n",
      "bhavesh True\n"
     ]
    }
   ],
   "source": [
    "# Inheritance\n",
    "class Person():\n",
    "\n",
    "    def __init__(self, name):\n",
    "        self.name = name\n",
    "\n",
    "# To get name\n",
    "    def getName(self):\n",
    "        return self.name\n",
    "\n",
    "# To check if this person is an employee\n",
    "    def isEmployee(self):\n",
    "        return False\n",
    "\n",
    "\n",
    "# Inherited or Subclass (Note Person in bracket)\n",
    "class Employee(Person):\n",
    "\n",
    "# Here we return true\n",
    "    def isEmployee(self):\n",
    "        return True\n",
    "\n",
    "# Driver code\n",
    "emp = Person(\"rohit\") \n",
    "print(emp.getName(), emp.isEmployee())\n",
    "\n",
    "emp = Employee(\"bhavesh\")\n",
    "print(emp.getName(), emp.isEmployee())\n"
   ]
  },
  {
   "cell_type": "markdown",
   "id": "5585f620",
   "metadata": {},
   "source": [
    "# The __str__ method in Python represents the class objects as a string – it can be used for classes. The __str__ method should be defined in a way that is easy to read and outputs all the members of the class. This method is also used as a debugging tool when the members of a class need to be checked.\n"
   ]
  },
  {
   "cell_type": "markdown",
   "id": "c5a1db08",
   "metadata": {},
   "source": [
    "#  __repr__ is a special method used to represent a class’s objects as a string. __repr__ is called by the repr() built-in function. You can define your own string representation of your class objects using the __repr__ method."
   ]
  },
  {
   "cell_type": "code",
   "execution_count": 1,
   "id": "8c510c82",
   "metadata": {},
   "outputs": [
    {
     "name": "stdout",
     "output_type": "stream",
     "text": [
      "class A\n",
      "class A: self.val\n"
     ]
    }
   ],
   "source": [
    "class A:\n",
    "    def __init__(self):\n",
    "        self.val = 10\n",
    "        \n",
    "    def __str__(self):                #Used for friendly readability\n",
    "        return 'class A'\n",
    "    \n",
    "    def __repr__(self):               #Used for representing the object so that it can be reconstructed later\n",
    "        return 'class A: self.val'\n",
    "    \n",
    "    \n",
    "a = A()\n",
    "print(a)\n",
    "\n",
    "print(repr(a))"
   ]
  },
  {
   "cell_type": "code",
   "execution_count": 2,
   "id": "e13698e1",
   "metadata": {},
   "outputs": [
    {
     "name": "stdout",
     "output_type": "stream",
     "text": [
      "class A\n",
      "class A\n"
     ]
    }
   ],
   "source": [
    "class A:\n",
    "    def __init__(self):\n",
    "        self.val = 10\n",
    "        \n",
    "    def __str__(self):\n",
    "        return 'class A'\n",
    "    \n",
    "    __repr__ = __str__\n",
    "    \n",
    "    \n",
    "a = A()\n",
    "print(a)\n",
    "\n",
    "print(repr(a))"
   ]
  },
  {
   "cell_type": "markdown",
   "id": "9c6c5da9",
   "metadata": {},
   "source": [
    "# Encapsulation\n",
    "\n",
    "# Encapsulation is one of the fundamental concepts in object-oriented programming (OOP). It describes the idea of wrapping data and the methods that work on data within one unit. This puts restrictions on accessing variables and methods directly and can prevent the accidental modification of data."
   ]
  },
  {
   "cell_type": "code",
   "execution_count": 3,
   "id": "a8ee06c5",
   "metadata": {},
   "outputs": [
    {
     "name": "stdout",
     "output_type": "stream",
     "text": [
      "100 20\n"
     ]
    }
   ],
   "source": [
    "class speed:\n",
    "    def __init__(self):\n",
    "        self.speed = 10    #Public member\n",
    "        self.__speed_limit = 20   #private member\n",
    "        \n",
    "    def get_speed(self):\n",
    "        return self.speed\n",
    "    \n",
    "    def get_speed_limit(self):\n",
    "        return self.__speed_limit\n",
    "    \n",
    "s = speed()\n",
    "s.speed = 100\n",
    "s.__speed_limit = 50\n",
    "\n",
    "print(s.get_speed(), s.get_speed_limit())\n"
   ]
  },
  {
   "cell_type": "code",
   "execution_count": 4,
   "id": "4f4dd618",
   "metadata": {},
   "outputs": [
    {
     "name": "stdout",
     "output_type": "stream",
     "text": [
      "100 150\n"
     ]
    }
   ],
   "source": [
    "#Changing speed limit and private member\n",
    "\n",
    "class speed:\n",
    "    def __init__(self):\n",
    "        self.speed = 10    #Public member\n",
    "        self.__speed_limit = 20   #private member\n",
    "        \n",
    "    def get_speed(self):\n",
    "        return self.speed\n",
    "    \n",
    "    def get_speed_limit(self):\n",
    "        return self.__speed_limit\n",
    "    \n",
    "    def set_speed_limit(self, new_speed_limit):\n",
    "        self.__speed_limit = new_speed_limit\n",
    "    \n",
    "s = speed()\n",
    "s.speed = 100\n",
    "s.__speed_limit = 50\n",
    "s.set_speed_limit(150)\n",
    "\n",
    "print(s.get_speed(), s.get_speed_limit())\n"
   ]
  },
  {
   "cell_type": "markdown",
   "id": "652d5e31",
   "metadata": {},
   "source": [
    "# Operator Overloading\n",
    "# Operator Overloading means giving extended meaning beyond their predefined operational meaning. For example operator + is used to add two integers as well as join two strings and merge two lists. It is achievable because ‘+’ operator is overloaded by int class and str class."
   ]
  },
  {
   "cell_type": "code",
   "execution_count": 5,
   "id": "6db49413",
   "metadata": {},
   "outputs": [
    {
     "name": "stdout",
     "output_type": "stream",
     "text": [
      "4\n",
      "DataScience\n",
      "8\n",
      "AIisFutuer AIisFutuer AIisFutuer AIisFutuer \n"
     ]
    }
   ],
   "source": [
    "#Examples of overloading\n",
    "\n",
    "print(2 + 2)\n",
    "\n",
    "# concatenate two strings\n",
    "print(\"Data\"+\"Science\")\n",
    "\n",
    "# Product two numbers\n",
    "print(2 * 4)\n",
    "\n",
    "# Repeat the String\n",
    "print(\"AIisFutuer \"*4)\n"
   ]
  },
  {
   "cell_type": "markdown",
   "id": "adc6abd5",
   "metadata": {},
   "source": [
    "# Python provides some special function or magic function that is automatically invoked when it is associated with that particular operator. For example, when we use + operator, the magic method __add__ is automatically invoked in which the operation for + operator is defined."
   ]
  },
  {
   "cell_type": "code",
   "execution_count": 7,
   "id": "af01ead6",
   "metadata": {},
   "outputs": [
    {
     "name": "stdout",
     "output_type": "stream",
     "text": [
      "10\n",
      "DataScience\n"
     ]
    }
   ],
   "source": [
    "# to overload an binary + operator\n",
    "\n",
    "class X:\n",
    "    def __init__(self, a):\n",
    "        self.a = a\n",
    "\n",
    "# adding two objects\n",
    "    def __add__(self, b):\n",
    "        return self.a + b.a\n",
    "ob1 = X(6)\n",
    "ob2 = X(4)\n",
    "ob3 = X(\"Data\")\n",
    "ob4 = X(\"Science\")\n",
    "\n",
    "print(ob1 + ob2)\n",
    "print(ob3 + ob4)\n"
   ]
  },
  {
   "cell_type": "code",
   "execution_count": 8,
   "id": "cd6633a1",
   "metadata": {},
   "outputs": [
    {
     "name": "stdout",
     "output_type": "stream",
     "text": [
      "(7, 9)\n"
     ]
    }
   ],
   "source": [
    "# Addition of two complex numbers overloading\n",
    "\n",
    "class Complex:\n",
    "    def __init__(self, a, b):\n",
    "        self.a = a\n",
    "        self.b = b\n",
    "\n",
    "# adding two objects\n",
    "    def __add__(self, other):\n",
    "        return self.a + other.a, self.b + other.b\n",
    "\n",
    "Ob1 = Complex(6, 4)\n",
    "Ob2 = Complex(1, 5)\n",
    "Ob3 = Ob1 + Ob2\n",
    "print(Ob3)\n"
   ]
  },
  {
   "cell_type": "code",
   "execution_count": 9,
   "id": "9ad70371",
   "metadata": {},
   "outputs": [
    {
     "name": "stdout",
     "output_type": "stream",
     "text": [
      "ob2 is greater than ob1\n"
     ]
    }
   ],
   "source": [
    "# a comparison operators overloading\n",
    "\n",
    "class Z:\n",
    "    def __init__(self, a):\n",
    "        self.a = a\n",
    "    def __gt__(self, other):\n",
    "        if(self.a>other.a):\n",
    "            return True\n",
    "        else:\n",
    "            return False\n",
    "ob1 = Z(4)\n",
    "ob2 = Z(6)\n",
    "if(ob1>ob2):\n",
    "    print(\"ob1 is greater than ob2\")\n",
    "else:\n",
    "    print(\"ob2 is greater than ob1\")\n"
   ]
  },
  {
   "cell_type": "code",
   "execution_count": 11,
   "id": "9ce957a0",
   "metadata": {},
   "outputs": [
    {
     "name": "stdout",
     "output_type": "stream",
     "text": [
      "ob1 is < ob2\n",
      "Both are equal\n"
     ]
    }
   ],
   "source": [
    "# equality and less than operator overloading\n",
    "\n",
    "class Y:\n",
    "    def __init__(self, a):\n",
    "        self.a = a\n",
    "    def __lt__(self, other):\n",
    "        if(self.a<other.a):\n",
    "            return \"ob1 is < ob2\"\n",
    "        else:\n",
    "            return \"ob2 is < ob1\"\n",
    "    def __eq__(self, other):\n",
    "        if(self.a == other.a):\n",
    "            return \"Both are equal\"\n",
    "        else:\n",
    "            return \"Not equal\"\n",
    "\n",
    "ob1 = Y(2)\n",
    "ob2 = Y(3)\n",
    "print(ob1 < ob2)\n",
    "\n",
    "ob3 = Y(4)\n",
    "ob4 = Y(4)\n",
    "print(ob3 == ob4)\n"
   ]
  },
  {
   "cell_type": "markdown",
   "id": "c28f8671",
   "metadata": {},
   "source": [
    "# Binary Operators:-\n",
    "\n",
    "# Operator Magic Method\n",
    "\n",
    "#  +__add__(self, other)\n",
    "#  – __sub__(self, other)\n",
    "#  * __mul__(self, other)\n",
    "#  / __truediv__(self, other)\n",
    "#  // __floordiv__(self, other)\n",
    "#  % __mod__(self, other)\n",
    "#  ** __pow__(self, other)\n",
    "#  >> __rshift__(self, other)\n",
    "#  << __lshift__(self, other)\n",
    "#  & __and__(self, other)\n",
    "#  | __or__(self, other)\n",
    "#  ^ __xor__(self, other)\n",
    "\n",
    "# Comparison Operators :\n",
    "\n",
    "# Operator Magic Method\n",
    "\n",
    "# < __LT__(SELF, OTHER)\n",
    "# > __GT__(SELF, OTHER)\n",
    "# <= __LE__(SELF, OTHER)\n",
    "# >= __GE__(SELF, OTHER)\n",
    "# == __EQ__(SELF, OTHER)\n",
    "# != __NE__(SELF, OTHER)"
   ]
  },
  {
   "cell_type": "markdown",
   "id": "229915cf",
   "metadata": {},
   "source": [
    "# Writing to file"
   ]
  },
  {
   "cell_type": "code",
   "execution_count": 1,
   "id": "6c2cd3c2",
   "metadata": {},
   "outputs": [],
   "source": [
    "f = open('a1.txt','w')     # W is for Write\n",
    "\n",
    "f.write('Welcome to SparrowAI...\\n')\n",
    "f.write('Data Science is trending these days...\\n')\n",
    "f.write('AI is future...\\n\\n')\n",
    "\n",
    "f.write('hello Coders...\\nthis session is going to be fun...\\nIm glad that you learning python with me')\n",
    "\n",
    "f.close()"
   ]
  },
  {
   "cell_type": "markdown",
   "id": "3a67ed77",
   "metadata": {},
   "source": [
    "# Reading to file"
   ]
  },
  {
   "cell_type": "code",
   "execution_count": 3,
   "id": "3fe5f651",
   "metadata": {},
   "outputs": [
    {
     "name": "stdout",
     "output_type": "stream",
     "text": [
      "Welcome to SparrowAI...\n",
      "Data Science is trending these days...\n",
      "AI is future...\n",
      "\n",
      "hello Coders...\n",
      "this session is going to be fun...\n",
      "Im glad that you learning python with me"
     ]
    }
   ],
   "source": [
    "f = open('a1.txt','r')     # r is for Read\n",
    "\n",
    "for l in f:\n",
    "    print(l,end='')"
   ]
  },
  {
   "cell_type": "markdown",
   "id": "129a3660",
   "metadata": {},
   "source": [
    "# OS module, this module provides a portable way of using operating system dependent functionality. "
   ]
  },
  {
   "cell_type": "code",
   "execution_count": 4,
   "id": "5ed970e4",
   "metadata": {},
   "outputs": [
    {
     "name": "stdout",
     "output_type": "stream",
     "text": [
      "Current Working Directory:- /home/nikhil/GCCA\n"
     ]
    }
   ],
   "source": [
    "import os\n",
    "\n",
    "cwd = os.getcwd()\n",
    "\n",
    "print('Current Working Directory:-',cwd)"
   ]
  },
  {
   "cell_type": "code",
   "execution_count": 6,
   "id": "8aa3a7e9",
   "metadata": {},
   "outputs": [
    {
     "name": "stdout",
     "output_type": "stream",
     "text": [
      "/home/nikhil/GCCA/a1.txt\n",
      "Welcome to SparrowAI...\n",
      "Data Science is trending these days...\n",
      "AI is future...\n",
      "\n",
      "hello Coders...\n",
      "this session is going to be fun...\n",
      "Im glad that you learning python with me"
     ]
    }
   ],
   "source": [
    "import os\n",
    "\n",
    "d = os.getcwd()\n",
    "\n",
    "fname = os.path.join(d, 'a1.txt')    #Join two or more pathname components\n",
    "\n",
    "print(fname)\n",
    "\n",
    "f = open(fname, 'r')\n",
    "\n",
    "for l in f:\n",
    "    print(l,end='')"
   ]
  },
  {
   "cell_type": "code",
   "execution_count": null,
   "id": "a31f98bc",
   "metadata": {},
   "outputs": [],
   "source": []
  }
 ],
 "metadata": {
  "kernelspec": {
   "display_name": "Python 3 (ipykernel)",
   "language": "python",
   "name": "python3"
  },
  "language_info": {
   "codemirror_mode": {
    "name": "ipython",
    "version": 3
   },
   "file_extension": ".py",
   "mimetype": "text/x-python",
   "name": "python",
   "nbconvert_exporter": "python",
   "pygments_lexer": "ipython3",
   "version": "3.8.11"
  }
 },
 "nbformat": 4,
 "nbformat_minor": 5
}
